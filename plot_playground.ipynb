{
 "cells": [
  {
   "cell_type": "code",
   "execution_count": 7,
   "source": [
    "%load_ext autoreload\n",
    "%autoreload 2\n",
    "%aimport -sys\n",
    "%aimport -rpy2\n",
    "%aimport -pandas\n",
    "%aimport -numpy\n",
    "%aimport -plotly"
   ],
   "outputs": [
    {
     "output_type": "stream",
     "name": "stdout",
     "text": [
      "The autoreload extension is already loaded. To reload it, use:\n",
      "  %reload_ext autoreload\n"
     ]
    }
   ],
   "metadata": {}
  },
  {
   "cell_type": "code",
   "execution_count": 1,
   "source": [
    "import sys\n",
    "\n",
    "if '..' not in sys.path:\n",
    "    sys.path.insert(0, '..')\n",
    "\n",
    "import glm\n",
    "import plotter\n",
    "import plotly.express as px\n",
    "from pandas import DataFrame\n",
    "from numpy import ndarray\n",
    "import pandas as pd\n",
    "import numpy as np\n",
    "from plotly.graph_objects import Figure as PlotlyFigure\n",
    "import statsmodels.api as sm\n",
    "from scipy.stats import norm\n",
    "# from statsmodels.discrete.discrete_model import Logit as LogisticRegressor\n",
    "from statsmodels.formula.api import logit as LogisticRegressor\n",
    "from statsmodels.discrete.discrete_model import Logit\n",
    "from sklearn.linear_model import LogisticRegression\n",
    "from patsy import dmatrix"
   ],
   "outputs": [],
   "metadata": {}
  },
  {
   "cell_type": "code",
   "execution_count": 12,
   "source": [
    "N = 10\n",
    "results: Dict = glm.compare_sklearn(features=N)"
   ],
   "outputs": [],
   "metadata": {}
  },
  {
   "cell_type": "code",
   "execution_count": 14,
   "source": [],
   "outputs": [
    {
     "output_type": "execute_result",
     "data": {
      "text/plain": [
       "dict_keys(['model', 'dataframe', 'input_matrix', 'computed_y', 'true_y', 'fitted_y', 'true_coef'])"
      ]
     },
     "metadata": {},
     "execution_count": 14
    }
   ],
   "metadata": {}
  },
  {
   "cell_type": "code",
   "execution_count": 13,
   "source": [
    "plot_df = results[\"dataframe\"].copy()\n",
    "for i in range(1, N + 1):\n",
    "    plot_df[f\"feat_{i}_bin\"] = pd.qcut(\n",
    "        x=plot_df[f\"feat_{i}\"],\n",
    "        q=10,\n",
    "        # include_lowest=True,\n",
    "        labels=False,\n",
    "    )\n"
   ],
   "outputs": [],
   "metadata": {}
  },
  {
   "cell_type": "code",
   "execution_count": 11,
   "source": [
    "# plot_df.corr().style.background_gradient(cmap='coolwarm')"
   ],
   "outputs": [],
   "metadata": {}
  },
  {
   "cell_type": "code",
   "execution_count": 12,
   "source": [
    "boxplots = []\n",
    "for i in range(1, N + 1):\n",
    "    fig: PlotlyFigure = plotter.boxplot(\n",
    "        data=plot_df.sample(100000), x=f\"feat_{i}_bin\", y=\"y\", points=False\n",
    "    )\n",
    "    boxplots.append(fig)\n",
    "\n",
    "plotter.save_plots_to_html(figures=boxplots, file=\"./exhibits/boxplots.html\")\n",
    "del boxplots\n"
   ],
   "outputs": [],
   "metadata": {}
  },
  {
   "cell_type": "code",
   "execution_count": 13,
   "source": [
    "scatterplots = []\n",
    "for i in range(1, N + 1):\n",
    "    fig: PlotlyFigure = px.scatter(\n",
    "        data_frame=plot_df.sample(50000), x=f\"feat_{i}\", y=\"y\", render_mode=\"webgl\"\n",
    "    )\n",
    "    scatterplots.append(fig)\n",
    "\n",
    "plotter.save_plots_to_html(  # can only render 8 at most\n",
    "    figures=scatterplots, file=\"./exhibits/scatterplots.html\"\n",
    ")\n",
    "del scatterplots\n"
   ],
   "outputs": [],
   "metadata": {}
  },
  {
   "cell_type": "code",
   "execution_count": 14,
   "source": [
    "for i in range(1, N+1):\n",
    "    fig = px.histogram(plot_df.sample(25000), x=f'feat_{i}', histnorm='probability density')"
   ],
   "outputs": [],
   "metadata": {}
  },
  {
   "cell_type": "code",
   "execution_count": 16,
   "source": [
    "plotter.qqplot(results['fitted_y'] - results['true_y'])"
   ],
   "outputs": [
    {
     "output_type": "display_data",
     "data": {
      "application/vnd.plotly.v1+json": {
       "config": {
        "plotlyServerURL": "https://plot.ly"
       },
       "data": [
        {
         "hovertemplate": "x=%{x}<br>y=%{y}<extra></extra>",
         "legendgroup": "",
         "marker": {
          "color": "#636efa",
          "symbol": "circle"
         },
         "mode": "markers",
         "name": "",
         "orientation": "v",
         "showlegend": false,
         "type": "scatter",
         "x": [
          -2.329126605681411,
          -1.647241311492753,
          -1.557637335387037,
          -1.4792864199887144,
          -1.4077847063875704,
          -1.3431893218180937,
          -1.2838319068523412,
          -1.2289613445620993,
          -1.1780730739048315,
          -1.1288177989265387,
          -1.0822076925920356,
          -1.0379367900643346,
          -0.9959225331072764,
          -0.955640552710709,
          -0.9168144670248434,
          -0.8796003923517312,
          -0.8431594529772197,
          -0.8079458377515557,
          -0.7735610940000496,
          -0.74027642888147,
          -0.7078086943003791,
          -0.6756736693546515,
          -0.6445255053613014,
          -0.6138329892358173,
          -0.5838290049914653,
          -0.5542217648142435,
          -0.5252161948251651,
          -0.4965538907710082,
          -0.4684432884018537,
          -0.4407238399036969,
          -0.41331353377199603,
          -0.3863831419965294,
          -0.35954079930989513,
          -0.33314985396149394,
          -0.30670928342785897,
          -0.2805494641147771,
          -0.2546014126754982,
          -0.22850954739733553,
          -0.20310330138079807,
          -0.17765793731775492,
          -0.15229129825240306,
          -0.12688098271166795,
          -0.10169811309723224,
          -0.07657257241073055,
          -0.051588023481252764,
          -0.02654308267269357,
          -0.0012792304773032726,
          0.023926338056416866,
          0.04909072647066976,
          0.0742593484426726,
          0.09940409420349981,
          0.12467946602039118,
          0.15005876545512492,
          0.1754225996847134,
          0.20123459955480102,
          0.22674587796007442,
          0.2526275364183683,
          0.2784410657133824,
          0.30463956159745975,
          0.3310403972317483,
          0.35768599904647436,
          0.38479118404567175,
          0.4120375460627121,
          0.43957966461017567,
          0.4675470186600649,
          0.4957951217002104,
          0.5244971725619662,
          0.5535514761775435,
          0.5827268901659738,
          0.6126936656523959,
          0.6433653221438762,
          0.6744284511786698,
          0.7064280605897796,
          0.7387866107616469,
          0.7720400059924388,
          0.8063255935639514,
          0.8418643084251131,
          0.8781455535178933,
          0.9155282081522971,
          0.9544674721094464,
          0.9948012729599655,
          1.0366856301693281,
          1.0802056902992967,
          1.1264831156339223,
          1.1754646547942509,
          1.2269738773142111,
          1.2820815059950654,
          1.3409212408238589,
          1.4046024064116993,
          1.4754738565249368,
          1.5548819237253386,
          1.6461567536839146,
          2.329898479466115
         ],
         "xaxis": "x",
         "y": [
          -106.31739370204204,
          -72.24268134757364,
          -67.73867972984267,
          -63.78955140895853,
          -60.25357801548165,
          -57.03775168451082,
          -54.07757827723002,
          -51.32640600183049,
          -48.74933960330452,
          -46.31955645194003,
          -44.01596704074779,
          -41.82166947468949,
          -39.722894160487655,
          -37.70826265730971,
          -35.7682543921407,
          -33.89481475256144,
          -32.08106167864571,
          -30.321062350912015,
          -28.609660709434237,
          -26.942342459260686,
          -25.31512814200437,
          -23.724487509804085,
          -22.167270269645847,
          -20.640649550831363,
          -19.14207536356081,
          -17.669235977783647,
          -16.220025635402045,
          -14.792517367372664,
          -13.384939955725411,
          -11.99565828366169,
          -10.623156472070235,
          -9.266023320378387,
          -7.922939662559688,
          -6.592667321840832,
          -5.274039404969869,
          -3.965951722372708,
          -2.667355156789986,
          -1.3772488320574734,
          -0.09467395709254411,
          1.181291760956933,
          2.451539225161137,
          3.716932657246299,
          4.978313974426513,
          6.236506895008505,
          7.492320826763317,
          8.746554587064447,
          10,
          11.253445412935553,
          12.507679173236683,
          13.763493104991495,
          15.021686025573494,
          16.283067342753707,
          17.54846077483887,
          18.818708239043062,
          20.09467395709254,
          21.377248832057468,
          22.667355156789988,
          23.965951722372708,
          25.27403940496987,
          26.592667321840832,
          27.92293966255969,
          29.266023320378387,
          30.62315647207025,
          31.995658283661694,
          33.38493995572542,
          34.79251736737266,
          36.22002563540204,
          37.669235977783636,
          39.14207536356081,
          40.64064955083136,
          42.16727026964585,
          43.724487509804085,
          45.31512814200437,
          46.942342459260686,
          48.60966070943424,
          50.321062350912015,
          52.08106167864572,
          53.894814752561444,
          55.76825439214069,
          57.70826265730971,
          59.722894160487655,
          61.82166947468949,
          64.0159670407478,
          66.31955645194003,
          68.74933960330452,
          71.32640600183052,
          74.07757827723002,
          77.03775168451082,
          80.25357801548165,
          83.78955140895856,
          87.73867972984267,
          92.24268134757361,
          126.31739370204204
         ],
         "yaxis": "y"
        }
       ],
       "layout": {
        "legend": {
         "tracegroupgap": 0
        },
        "template": {
         "data": {
          "bar": [
           {
            "error_x": {
             "color": "#2a3f5f"
            },
            "error_y": {
             "color": "#2a3f5f"
            },
            "marker": {
             "line": {
              "color": "#E5ECF6",
              "width": 0.5
             },
             "pattern": {
              "fillmode": "overlay",
              "size": 10,
              "solidity": 0.2
             }
            },
            "type": "bar"
           }
          ],
          "barpolar": [
           {
            "marker": {
             "line": {
              "color": "#E5ECF6",
              "width": 0.5
             },
             "pattern": {
              "fillmode": "overlay",
              "size": 10,
              "solidity": 0.2
             }
            },
            "type": "barpolar"
           }
          ],
          "carpet": [
           {
            "aaxis": {
             "endlinecolor": "#2a3f5f",
             "gridcolor": "white",
             "linecolor": "white",
             "minorgridcolor": "white",
             "startlinecolor": "#2a3f5f"
            },
            "baxis": {
             "endlinecolor": "#2a3f5f",
             "gridcolor": "white",
             "linecolor": "white",
             "minorgridcolor": "white",
             "startlinecolor": "#2a3f5f"
            },
            "type": "carpet"
           }
          ],
          "choropleth": [
           {
            "colorbar": {
             "outlinewidth": 0,
             "ticks": ""
            },
            "type": "choropleth"
           }
          ],
          "contour": [
           {
            "colorbar": {
             "outlinewidth": 0,
             "ticks": ""
            },
            "colorscale": [
             [
              0,
              "#0d0887"
             ],
             [
              0.1111111111111111,
              "#46039f"
             ],
             [
              0.2222222222222222,
              "#7201a8"
             ],
             [
              0.3333333333333333,
              "#9c179e"
             ],
             [
              0.4444444444444444,
              "#bd3786"
             ],
             [
              0.5555555555555556,
              "#d8576b"
             ],
             [
              0.6666666666666666,
              "#ed7953"
             ],
             [
              0.7777777777777778,
              "#fb9f3a"
             ],
             [
              0.8888888888888888,
              "#fdca26"
             ],
             [
              1,
              "#f0f921"
             ]
            ],
            "type": "contour"
           }
          ],
          "contourcarpet": [
           {
            "colorbar": {
             "outlinewidth": 0,
             "ticks": ""
            },
            "type": "contourcarpet"
           }
          ],
          "heatmap": [
           {
            "colorbar": {
             "outlinewidth": 0,
             "ticks": ""
            },
            "colorscale": [
             [
              0,
              "#0d0887"
             ],
             [
              0.1111111111111111,
              "#46039f"
             ],
             [
              0.2222222222222222,
              "#7201a8"
             ],
             [
              0.3333333333333333,
              "#9c179e"
             ],
             [
              0.4444444444444444,
              "#bd3786"
             ],
             [
              0.5555555555555556,
              "#d8576b"
             ],
             [
              0.6666666666666666,
              "#ed7953"
             ],
             [
              0.7777777777777778,
              "#fb9f3a"
             ],
             [
              0.8888888888888888,
              "#fdca26"
             ],
             [
              1,
              "#f0f921"
             ]
            ],
            "type": "heatmap"
           }
          ],
          "heatmapgl": [
           {
            "colorbar": {
             "outlinewidth": 0,
             "ticks": ""
            },
            "colorscale": [
             [
              0,
              "#0d0887"
             ],
             [
              0.1111111111111111,
              "#46039f"
             ],
             [
              0.2222222222222222,
              "#7201a8"
             ],
             [
              0.3333333333333333,
              "#9c179e"
             ],
             [
              0.4444444444444444,
              "#bd3786"
             ],
             [
              0.5555555555555556,
              "#d8576b"
             ],
             [
              0.6666666666666666,
              "#ed7953"
             ],
             [
              0.7777777777777778,
              "#fb9f3a"
             ],
             [
              0.8888888888888888,
              "#fdca26"
             ],
             [
              1,
              "#f0f921"
             ]
            ],
            "type": "heatmapgl"
           }
          ],
          "histogram": [
           {
            "marker": {
             "pattern": {
              "fillmode": "overlay",
              "size": 10,
              "solidity": 0.2
             }
            },
            "type": "histogram"
           }
          ],
          "histogram2d": [
           {
            "colorbar": {
             "outlinewidth": 0,
             "ticks": ""
            },
            "colorscale": [
             [
              0,
              "#0d0887"
             ],
             [
              0.1111111111111111,
              "#46039f"
             ],
             [
              0.2222222222222222,
              "#7201a8"
             ],
             [
              0.3333333333333333,
              "#9c179e"
             ],
             [
              0.4444444444444444,
              "#bd3786"
             ],
             [
              0.5555555555555556,
              "#d8576b"
             ],
             [
              0.6666666666666666,
              "#ed7953"
             ],
             [
              0.7777777777777778,
              "#fb9f3a"
             ],
             [
              0.8888888888888888,
              "#fdca26"
             ],
             [
              1,
              "#f0f921"
             ]
            ],
            "type": "histogram2d"
           }
          ],
          "histogram2dcontour": [
           {
            "colorbar": {
             "outlinewidth": 0,
             "ticks": ""
            },
            "colorscale": [
             [
              0,
              "#0d0887"
             ],
             [
              0.1111111111111111,
              "#46039f"
             ],
             [
              0.2222222222222222,
              "#7201a8"
             ],
             [
              0.3333333333333333,
              "#9c179e"
             ],
             [
              0.4444444444444444,
              "#bd3786"
             ],
             [
              0.5555555555555556,
              "#d8576b"
             ],
             [
              0.6666666666666666,
              "#ed7953"
             ],
             [
              0.7777777777777778,
              "#fb9f3a"
             ],
             [
              0.8888888888888888,
              "#fdca26"
             ],
             [
              1,
              "#f0f921"
             ]
            ],
            "type": "histogram2dcontour"
           }
          ],
          "mesh3d": [
           {
            "colorbar": {
             "outlinewidth": 0,
             "ticks": ""
            },
            "type": "mesh3d"
           }
          ],
          "parcoords": [
           {
            "line": {
             "colorbar": {
              "outlinewidth": 0,
              "ticks": ""
             }
            },
            "type": "parcoords"
           }
          ],
          "pie": [
           {
            "automargin": true,
            "type": "pie"
           }
          ],
          "scatter": [
           {
            "marker": {
             "colorbar": {
              "outlinewidth": 0,
              "ticks": ""
             }
            },
            "type": "scatter"
           }
          ],
          "scatter3d": [
           {
            "line": {
             "colorbar": {
              "outlinewidth": 0,
              "ticks": ""
             }
            },
            "marker": {
             "colorbar": {
              "outlinewidth": 0,
              "ticks": ""
             }
            },
            "type": "scatter3d"
           }
          ],
          "scattercarpet": [
           {
            "marker": {
             "colorbar": {
              "outlinewidth": 0,
              "ticks": ""
             }
            },
            "type": "scattercarpet"
           }
          ],
          "scattergeo": [
           {
            "marker": {
             "colorbar": {
              "outlinewidth": 0,
              "ticks": ""
             }
            },
            "type": "scattergeo"
           }
          ],
          "scattergl": [
           {
            "marker": {
             "colorbar": {
              "outlinewidth": 0,
              "ticks": ""
             }
            },
            "type": "scattergl"
           }
          ],
          "scattermapbox": [
           {
            "marker": {
             "colorbar": {
              "outlinewidth": 0,
              "ticks": ""
             }
            },
            "type": "scattermapbox"
           }
          ],
          "scatterpolar": [
           {
            "marker": {
             "colorbar": {
              "outlinewidth": 0,
              "ticks": ""
             }
            },
            "type": "scatterpolar"
           }
          ],
          "scatterpolargl": [
           {
            "marker": {
             "colorbar": {
              "outlinewidth": 0,
              "ticks": ""
             }
            },
            "type": "scatterpolargl"
           }
          ],
          "scatterternary": [
           {
            "marker": {
             "colorbar": {
              "outlinewidth": 0,
              "ticks": ""
             }
            },
            "type": "scatterternary"
           }
          ],
          "surface": [
           {
            "colorbar": {
             "outlinewidth": 0,
             "ticks": ""
            },
            "colorscale": [
             [
              0,
              "#0d0887"
             ],
             [
              0.1111111111111111,
              "#46039f"
             ],
             [
              0.2222222222222222,
              "#7201a8"
             ],
             [
              0.3333333333333333,
              "#9c179e"
             ],
             [
              0.4444444444444444,
              "#bd3786"
             ],
             [
              0.5555555555555556,
              "#d8576b"
             ],
             [
              0.6666666666666666,
              "#ed7953"
             ],
             [
              0.7777777777777778,
              "#fb9f3a"
             ],
             [
              0.8888888888888888,
              "#fdca26"
             ],
             [
              1,
              "#f0f921"
             ]
            ],
            "type": "surface"
           }
          ],
          "table": [
           {
            "cells": {
             "fill": {
              "color": "#EBF0F8"
             },
             "line": {
              "color": "white"
             }
            },
            "header": {
             "fill": {
              "color": "#C8D4E3"
             },
             "line": {
              "color": "white"
             }
            },
            "type": "table"
           }
          ]
         },
         "layout": {
          "annotationdefaults": {
           "arrowcolor": "#2a3f5f",
           "arrowhead": 0,
           "arrowwidth": 1
          },
          "autotypenumbers": "strict",
          "coloraxis": {
           "colorbar": {
            "outlinewidth": 0,
            "ticks": ""
           }
          },
          "colorscale": {
           "diverging": [
            [
             0,
             "#8e0152"
            ],
            [
             0.1,
             "#c51b7d"
            ],
            [
             0.2,
             "#de77ae"
            ],
            [
             0.3,
             "#f1b6da"
            ],
            [
             0.4,
             "#fde0ef"
            ],
            [
             0.5,
             "#f7f7f7"
            ],
            [
             0.6,
             "#e6f5d0"
            ],
            [
             0.7,
             "#b8e186"
            ],
            [
             0.8,
             "#7fbc41"
            ],
            [
             0.9,
             "#4d9221"
            ],
            [
             1,
             "#276419"
            ]
           ],
           "sequential": [
            [
             0,
             "#0d0887"
            ],
            [
             0.1111111111111111,
             "#46039f"
            ],
            [
             0.2222222222222222,
             "#7201a8"
            ],
            [
             0.3333333333333333,
             "#9c179e"
            ],
            [
             0.4444444444444444,
             "#bd3786"
            ],
            [
             0.5555555555555556,
             "#d8576b"
            ],
            [
             0.6666666666666666,
             "#ed7953"
            ],
            [
             0.7777777777777778,
             "#fb9f3a"
            ],
            [
             0.8888888888888888,
             "#fdca26"
            ],
            [
             1,
             "#f0f921"
            ]
           ],
           "sequentialminus": [
            [
             0,
             "#0d0887"
            ],
            [
             0.1111111111111111,
             "#46039f"
            ],
            [
             0.2222222222222222,
             "#7201a8"
            ],
            [
             0.3333333333333333,
             "#9c179e"
            ],
            [
             0.4444444444444444,
             "#bd3786"
            ],
            [
             0.5555555555555556,
             "#d8576b"
            ],
            [
             0.6666666666666666,
             "#ed7953"
            ],
            [
             0.7777777777777778,
             "#fb9f3a"
            ],
            [
             0.8888888888888888,
             "#fdca26"
            ],
            [
             1,
             "#f0f921"
            ]
           ]
          },
          "colorway": [
           "#636efa",
           "#EF553B",
           "#00cc96",
           "#ab63fa",
           "#FFA15A",
           "#19d3f3",
           "#FF6692",
           "#B6E880",
           "#FF97FF",
           "#FECB52"
          ],
          "font": {
           "color": "#2a3f5f"
          },
          "geo": {
           "bgcolor": "white",
           "lakecolor": "white",
           "landcolor": "#E5ECF6",
           "showlakes": true,
           "showland": true,
           "subunitcolor": "white"
          },
          "hoverlabel": {
           "align": "left"
          },
          "hovermode": "closest",
          "mapbox": {
           "style": "light"
          },
          "paper_bgcolor": "white",
          "plot_bgcolor": "#E5ECF6",
          "polar": {
           "angularaxis": {
            "gridcolor": "white",
            "linecolor": "white",
            "ticks": ""
           },
           "bgcolor": "#E5ECF6",
           "radialaxis": {
            "gridcolor": "white",
            "linecolor": "white",
            "ticks": ""
           }
          },
          "scene": {
           "xaxis": {
            "backgroundcolor": "#E5ECF6",
            "gridcolor": "white",
            "gridwidth": 2,
            "linecolor": "white",
            "showbackground": true,
            "ticks": "",
            "zerolinecolor": "white"
           },
           "yaxis": {
            "backgroundcolor": "#E5ECF6",
            "gridcolor": "white",
            "gridwidth": 2,
            "linecolor": "white",
            "showbackground": true,
            "ticks": "",
            "zerolinecolor": "white"
           },
           "zaxis": {
            "backgroundcolor": "#E5ECF6",
            "gridcolor": "white",
            "gridwidth": 2,
            "linecolor": "white",
            "showbackground": true,
            "ticks": "",
            "zerolinecolor": "white"
           }
          },
          "shapedefaults": {
           "line": {
            "color": "#2a3f5f"
           }
          },
          "ternary": {
           "aaxis": {
            "gridcolor": "white",
            "linecolor": "white",
            "ticks": ""
           },
           "baxis": {
            "gridcolor": "white",
            "linecolor": "white",
            "ticks": ""
           },
           "bgcolor": "#E5ECF6",
           "caxis": {
            "gridcolor": "white",
            "linecolor": "white",
            "ticks": ""
           }
          },
          "title": {
           "x": 0.05
          },
          "xaxis": {
           "automargin": true,
           "gridcolor": "white",
           "linecolor": "white",
           "ticks": "",
           "title": {
            "standoff": 15
           },
           "zerolinecolor": "white",
           "zerolinewidth": 2
          },
          "yaxis": {
           "automargin": true,
           "gridcolor": "white",
           "linecolor": "white",
           "ticks": "",
           "title": {
            "standoff": 15
           },
           "zerolinecolor": "white",
           "zerolinewidth": 2
          }
         }
        },
        "title": {
         "text": "qq-plot (Standard Normal)"
        },
        "xaxis": {
         "anchor": "y",
         "domain": [
          0,
          1
         ],
         "title": {
          "text": "x"
         }
        },
        "yaxis": {
         "anchor": "x",
         "domain": [
          0,
          1
         ],
         "title": {
          "text": "y"
         }
        }
       }
      }
     },
     "metadata": {}
    }
   ],
   "metadata": {}
  },
  {
   "cell_type": "markdown",
   "source": [
    "# Exploring Logistic Regression"
   ],
   "metadata": {}
  },
  {
   "cell_type": "code",
   "execution_count": 3,
   "source": [
    "data = sm.datasets.get_rdataset(\"Duncan\", \"carData\").data\n",
    "data['prestige_ge_60'] = np.where(data['prestige'] >= 60, 1, 0)\n",
    "data.head()"
   ],
   "outputs": [
    {
     "output_type": "execute_result",
     "data": {
      "text/html": [
       "<div>\n",
       "<style scoped>\n",
       "    .dataframe tbody tr th:only-of-type {\n",
       "        vertical-align: middle;\n",
       "    }\n",
       "\n",
       "    .dataframe tbody tr th {\n",
       "        vertical-align: top;\n",
       "    }\n",
       "\n",
       "    .dataframe thead th {\n",
       "        text-align: right;\n",
       "    }\n",
       "</style>\n",
       "<table border=\"1\" class=\"dataframe\">\n",
       "  <thead>\n",
       "    <tr style=\"text-align: right;\">\n",
       "      <th></th>\n",
       "      <th>type</th>\n",
       "      <th>income</th>\n",
       "      <th>education</th>\n",
       "      <th>prestige</th>\n",
       "      <th>prestige_ge_60</th>\n",
       "    </tr>\n",
       "  </thead>\n",
       "  <tbody>\n",
       "    <tr>\n",
       "      <th>accountant</th>\n",
       "      <td>prof</td>\n",
       "      <td>62</td>\n",
       "      <td>86</td>\n",
       "      <td>82</td>\n",
       "      <td>1</td>\n",
       "    </tr>\n",
       "    <tr>\n",
       "      <th>pilot</th>\n",
       "      <td>prof</td>\n",
       "      <td>72</td>\n",
       "      <td>76</td>\n",
       "      <td>83</td>\n",
       "      <td>1</td>\n",
       "    </tr>\n",
       "    <tr>\n",
       "      <th>architect</th>\n",
       "      <td>prof</td>\n",
       "      <td>75</td>\n",
       "      <td>92</td>\n",
       "      <td>90</td>\n",
       "      <td>1</td>\n",
       "    </tr>\n",
       "    <tr>\n",
       "      <th>author</th>\n",
       "      <td>prof</td>\n",
       "      <td>55</td>\n",
       "      <td>90</td>\n",
       "      <td>76</td>\n",
       "      <td>1</td>\n",
       "    </tr>\n",
       "    <tr>\n",
       "      <th>chemist</th>\n",
       "      <td>prof</td>\n",
       "      <td>64</td>\n",
       "      <td>86</td>\n",
       "      <td>90</td>\n",
       "      <td>1</td>\n",
       "    </tr>\n",
       "  </tbody>\n",
       "</table>\n",
       "</div>"
      ],
      "text/plain": [
       "            type  income  education  prestige  prestige_ge_60\n",
       "accountant  prof      62         86        82               1\n",
       "pilot       prof      72         76        83               1\n",
       "architect   prof      75         92        90               1\n",
       "author      prof      55         90        76               1\n",
       "chemist     prof      64         86        90               1"
      ]
     },
     "metadata": {},
     "execution_count": 3
    }
   ],
   "metadata": {}
  },
  {
   "cell_type": "code",
   "execution_count": 4,
   "source": [
    "predictors = [\"income\", \"education\"]\n",
    "formula = \"+\".join(predictors)\n",
    "# model: Logit = LogisticRegressor(formula=f\"prestige_ge_60 ~ {formula}\", data=data).fit()\n"
   ],
   "outputs": [],
   "metadata": {}
  },
  {
   "cell_type": "code",
   "execution_count": 5,
   "source": [
    "X = dmatrix(formula, data)\n",
    "sklearn_model = LogisticRegression(penalty=\"none\").fit(\n",
    "    X=X,\n",
    "    y=data[\"prestige_ge_60\"].values,\n",
    ")\n"
   ],
   "outputs": [],
   "metadata": {}
  },
  {
   "cell_type": "code",
   "execution_count": 7,
   "source": [
    "(\n",
    "    model.predict(X)\n",
    "    - sklearn_model.predict_proba(X=X)[:, 1]\n",
    ")\n"
   ],
   "outputs": [],
   "metadata": {}
  },
  {
   "cell_type": "markdown",
   "source": [
    "# Exploring QQ Plots"
   ],
   "metadata": {}
  }
 ],
 "metadata": {
  "orig_nbformat": 4,
  "language_info": {
   "name": "python",
   "version": "3.8.10",
   "mimetype": "text/x-python",
   "codemirror_mode": {
    "name": "ipython",
    "version": 3
   },
   "pygments_lexer": "ipython3",
   "nbconvert_exporter": "python",
   "file_extension": ".py"
  },
  "kernelspec": {
   "name": "python3",
   "display_name": "Python 3.8.10 64-bit ('r_and_python': conda)"
  },
  "interpreter": {
   "hash": "30d47c092dded7b0880b3cec71a348d8f5a52b285f2412ee900705bf9859bfaf"
  }
 },
 "nbformat": 4,
 "nbformat_minor": 2
}