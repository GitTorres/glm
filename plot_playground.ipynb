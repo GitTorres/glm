{
 "cells": [
  {
   "cell_type": "code",
   "execution_count": 1,
   "source": [
    "%load_ext autoreload\n",
    "%autoreload 2\n",
    "%aimport -sys\n",
    "%aimport -rpy2\n",
    "%aimport -pandas\n",
    "%aimport -numpy\n",
    "%aimport -plotly"
   ],
   "outputs": [],
   "metadata": {}
  },
  {
   "cell_type": "code",
   "execution_count": 143,
   "source": [
    "import sys\n",
    "\n",
    "if '..' not in sys.path:\n",
    "    sys.path.insert(0, '..')\n",
    "\n",
    "import glm\n",
    "import plotter\n",
    "import plotly.express as px\n",
    "from pandas import DataFrame\n",
    "from numpy import ndarray\n",
    "import pandas as pd\n",
    "import numpy as np\n",
    "from plotly.graph_objects import Figure as PlotlyFigure\n",
    "import statsmodels.api as sm"
   ],
   "outputs": [],
   "metadata": {}
  },
  {
   "cell_type": "code",
   "execution_count": 133,
   "source": [
    "N = 10\n",
    "results = glm.compare_sklearn(features=N)"
   ],
   "outputs": [],
   "metadata": {}
  },
  {
   "cell_type": "code",
   "execution_count": 45,
   "source": [
    "plot_df = results['dataframe'].copy()\n",
    "for i in range(1, N+1):\n",
    "    plot_df[f'feat_{i}_bin'] = \\\n",
    "        pd.qcut(\n",
    "            x=plot_df[f'feat_{i}'], \n",
    "            q=10, \n",
    "            # include_lowest=True, \n",
    "            labels=False)"
   ],
   "outputs": [],
   "metadata": {}
  },
  {
   "cell_type": "code",
   "execution_count": 46,
   "source": [
    "plot_df.corr().style.background_gradient(cmap='coolwarm')"
   ],
   "outputs": [
    {
     "output_type": "execute_result",
     "data": {
      "text/plain": [
       "<pandas.io.formats.style.Styler at 0x7ff787492400>"
      ],
      "text/html": [
       "<style  type=\"text/css\" >\n",
       "#T_348f4_row0_col0,#T_348f4_row1_col1,#T_348f4_row2_col2,#T_348f4_row3_col3,#T_348f4_row4_col4,#T_348f4_row5_col5,#T_348f4_row6_col6,#T_348f4_row7_col7,#T_348f4_row8_col8,#T_348f4_row9_col9,#T_348f4_row10_col10,#T_348f4_row11_col11,#T_348f4_row12_col12,#T_348f4_row13_col13,#T_348f4_row14_col14,#T_348f4_row15_col15,#T_348f4_row16_col16,#T_348f4_row17_col17,#T_348f4_row18_col18,#T_348f4_row19_col19,#T_348f4_row20_col20{\n",
       "            background-color:  #b40426;\n",
       "            color:  #f1f1f1;\n",
       "        }#T_348f4_row0_col1,#T_348f4_row0_col2,#T_348f4_row0_col3,#T_348f4_row0_col4,#T_348f4_row0_col5,#T_348f4_row0_col6,#T_348f4_row0_col7,#T_348f4_row0_col8,#T_348f4_row0_col9,#T_348f4_row0_col12,#T_348f4_row0_col13,#T_348f4_row0_col14,#T_348f4_row0_col15,#T_348f4_row0_col16,#T_348f4_row0_col17,#T_348f4_row0_col18,#T_348f4_row0_col19,#T_348f4_row0_col20,#T_348f4_row1_col0,#T_348f4_row1_col2,#T_348f4_row1_col3,#T_348f4_row1_col4,#T_348f4_row1_col5,#T_348f4_row1_col6,#T_348f4_row1_col7,#T_348f4_row1_col8,#T_348f4_row1_col9,#T_348f4_row1_col11,#T_348f4_row1_col13,#T_348f4_row1_col14,#T_348f4_row1_col15,#T_348f4_row1_col16,#T_348f4_row1_col17,#T_348f4_row1_col18,#T_348f4_row1_col19,#T_348f4_row1_col20,#T_348f4_row2_col0,#T_348f4_row2_col1,#T_348f4_row2_col3,#T_348f4_row2_col4,#T_348f4_row2_col5,#T_348f4_row2_col6,#T_348f4_row2_col7,#T_348f4_row2_col8,#T_348f4_row2_col9,#T_348f4_row2_col11,#T_348f4_row2_col12,#T_348f4_row2_col14,#T_348f4_row2_col15,#T_348f4_row2_col16,#T_348f4_row2_col17,#T_348f4_row2_col18,#T_348f4_row2_col19,#T_348f4_row2_col20,#T_348f4_row3_col0,#T_348f4_row3_col1,#T_348f4_row3_col2,#T_348f4_row3_col4,#T_348f4_row3_col5,#T_348f4_row3_col6,#T_348f4_row3_col7,#T_348f4_row3_col8,#T_348f4_row3_col9,#T_348f4_row3_col11,#T_348f4_row3_col12,#T_348f4_row3_col13,#T_348f4_row3_col15,#T_348f4_row3_col16,#T_348f4_row3_col17,#T_348f4_row3_col18,#T_348f4_row3_col19,#T_348f4_row3_col20,#T_348f4_row4_col0,#T_348f4_row4_col1,#T_348f4_row4_col2,#T_348f4_row4_col3,#T_348f4_row4_col5,#T_348f4_row4_col6,#T_348f4_row4_col7,#T_348f4_row4_col8,#T_348f4_row4_col9,#T_348f4_row4_col11,#T_348f4_row4_col12,#T_348f4_row4_col13,#T_348f4_row4_col14,#T_348f4_row4_col16,#T_348f4_row4_col17,#T_348f4_row4_col18,#T_348f4_row4_col19,#T_348f4_row4_col20,#T_348f4_row5_col0,#T_348f4_row5_col1,#T_348f4_row5_col2,#T_348f4_row5_col3,#T_348f4_row5_col4,#T_348f4_row5_col6,#T_348f4_row5_col7,#T_348f4_row5_col8,#T_348f4_row5_col9,#T_348f4_row5_col10,#T_348f4_row5_col11,#T_348f4_row5_col12,#T_348f4_row5_col13,#T_348f4_row5_col14,#T_348f4_row5_col15,#T_348f4_row5_col17,#T_348f4_row5_col18,#T_348f4_row5_col19,#T_348f4_row5_col20,#T_348f4_row6_col0,#T_348f4_row6_col1,#T_348f4_row6_col2,#T_348f4_row6_col3,#T_348f4_row6_col4,#T_348f4_row6_col5,#T_348f4_row6_col7,#T_348f4_row6_col8,#T_348f4_row6_col9,#T_348f4_row6_col11,#T_348f4_row6_col12,#T_348f4_row6_col13,#T_348f4_row6_col14,#T_348f4_row6_col15,#T_348f4_row6_col16,#T_348f4_row6_col18,#T_348f4_row6_col19,#T_348f4_row6_col20,#T_348f4_row7_col0,#T_348f4_row7_col1,#T_348f4_row7_col2,#T_348f4_row7_col3,#T_348f4_row7_col4,#T_348f4_row7_col5,#T_348f4_row7_col6,#T_348f4_row7_col8,#T_348f4_row7_col9,#T_348f4_row7_col11,#T_348f4_row7_col12,#T_348f4_row7_col13,#T_348f4_row7_col14,#T_348f4_row7_col15,#T_348f4_row7_col16,#T_348f4_row7_col17,#T_348f4_row7_col19,#T_348f4_row7_col20,#T_348f4_row8_col0,#T_348f4_row8_col1,#T_348f4_row8_col2,#T_348f4_row8_col3,#T_348f4_row8_col4,#T_348f4_row8_col5,#T_348f4_row8_col6,#T_348f4_row8_col7,#T_348f4_row8_col9,#T_348f4_row8_col11,#T_348f4_row8_col12,#T_348f4_row8_col13,#T_348f4_row8_col14,#T_348f4_row8_col15,#T_348f4_row8_col16,#T_348f4_row8_col17,#T_348f4_row8_col18,#T_348f4_row8_col20,#T_348f4_row9_col0,#T_348f4_row9_col1,#T_348f4_row9_col2,#T_348f4_row9_col3,#T_348f4_row9_col4,#T_348f4_row9_col5,#T_348f4_row9_col6,#T_348f4_row9_col7,#T_348f4_row9_col8,#T_348f4_row9_col11,#T_348f4_row9_col12,#T_348f4_row9_col13,#T_348f4_row9_col14,#T_348f4_row9_col15,#T_348f4_row9_col16,#T_348f4_row9_col17,#T_348f4_row9_col18,#T_348f4_row9_col19,#T_348f4_row11_col1,#T_348f4_row11_col2,#T_348f4_row11_col3,#T_348f4_row11_col4,#T_348f4_row11_col5,#T_348f4_row11_col6,#T_348f4_row11_col7,#T_348f4_row11_col8,#T_348f4_row11_col9,#T_348f4_row11_col12,#T_348f4_row11_col13,#T_348f4_row11_col14,#T_348f4_row11_col15,#T_348f4_row11_col16,#T_348f4_row11_col17,#T_348f4_row11_col18,#T_348f4_row11_col19,#T_348f4_row11_col20,#T_348f4_row12_col0,#T_348f4_row12_col2,#T_348f4_row12_col3,#T_348f4_row12_col4,#T_348f4_row12_col5,#T_348f4_row12_col6,#T_348f4_row12_col7,#T_348f4_row12_col8,#T_348f4_row12_col9,#T_348f4_row12_col11,#T_348f4_row12_col13,#T_348f4_row12_col14,#T_348f4_row12_col15,#T_348f4_row12_col16,#T_348f4_row12_col17,#T_348f4_row12_col18,#T_348f4_row12_col19,#T_348f4_row12_col20,#T_348f4_row13_col0,#T_348f4_row13_col1,#T_348f4_row13_col3,#T_348f4_row13_col4,#T_348f4_row13_col5,#T_348f4_row13_col6,#T_348f4_row13_col7,#T_348f4_row13_col8,#T_348f4_row13_col9,#T_348f4_row13_col11,#T_348f4_row13_col12,#T_348f4_row13_col14,#T_348f4_row13_col15,#T_348f4_row13_col16,#T_348f4_row13_col17,#T_348f4_row13_col18,#T_348f4_row13_col19,#T_348f4_row13_col20,#T_348f4_row14_col0,#T_348f4_row14_col1,#T_348f4_row14_col2,#T_348f4_row14_col4,#T_348f4_row14_col5,#T_348f4_row14_col6,#T_348f4_row14_col7,#T_348f4_row14_col8,#T_348f4_row14_col9,#T_348f4_row14_col11,#T_348f4_row14_col12,#T_348f4_row14_col13,#T_348f4_row14_col15,#T_348f4_row14_col16,#T_348f4_row14_col17,#T_348f4_row14_col18,#T_348f4_row14_col19,#T_348f4_row14_col20,#T_348f4_row15_col0,#T_348f4_row15_col1,#T_348f4_row15_col2,#T_348f4_row15_col3,#T_348f4_row15_col5,#T_348f4_row15_col6,#T_348f4_row15_col7,#T_348f4_row15_col8,#T_348f4_row15_col9,#T_348f4_row15_col11,#T_348f4_row15_col12,#T_348f4_row15_col13,#T_348f4_row15_col14,#T_348f4_row15_col16,#T_348f4_row15_col17,#T_348f4_row15_col18,#T_348f4_row15_col19,#T_348f4_row15_col20,#T_348f4_row16_col0,#T_348f4_row16_col1,#T_348f4_row16_col2,#T_348f4_row16_col3,#T_348f4_row16_col4,#T_348f4_row16_col6,#T_348f4_row16_col7,#T_348f4_row16_col8,#T_348f4_row16_col9,#T_348f4_row16_col10,#T_348f4_row16_col11,#T_348f4_row16_col12,#T_348f4_row16_col13,#T_348f4_row16_col14,#T_348f4_row16_col15,#T_348f4_row16_col17,#T_348f4_row16_col18,#T_348f4_row16_col19,#T_348f4_row16_col20,#T_348f4_row17_col0,#T_348f4_row17_col1,#T_348f4_row17_col2,#T_348f4_row17_col3,#T_348f4_row17_col4,#T_348f4_row17_col5,#T_348f4_row17_col7,#T_348f4_row17_col8,#T_348f4_row17_col9,#T_348f4_row17_col11,#T_348f4_row17_col12,#T_348f4_row17_col13,#T_348f4_row17_col14,#T_348f4_row17_col15,#T_348f4_row17_col16,#T_348f4_row17_col18,#T_348f4_row17_col19,#T_348f4_row17_col20,#T_348f4_row18_col0,#T_348f4_row18_col1,#T_348f4_row18_col2,#T_348f4_row18_col3,#T_348f4_row18_col4,#T_348f4_row18_col5,#T_348f4_row18_col6,#T_348f4_row18_col8,#T_348f4_row18_col9,#T_348f4_row18_col11,#T_348f4_row18_col12,#T_348f4_row18_col13,#T_348f4_row18_col14,#T_348f4_row18_col15,#T_348f4_row18_col16,#T_348f4_row18_col17,#T_348f4_row18_col19,#T_348f4_row18_col20,#T_348f4_row19_col0,#T_348f4_row19_col1,#T_348f4_row19_col2,#T_348f4_row19_col3,#T_348f4_row19_col4,#T_348f4_row19_col5,#T_348f4_row19_col6,#T_348f4_row19_col7,#T_348f4_row19_col9,#T_348f4_row19_col11,#T_348f4_row19_col12,#T_348f4_row19_col13,#T_348f4_row19_col14,#T_348f4_row19_col15,#T_348f4_row19_col16,#T_348f4_row19_col17,#T_348f4_row19_col18,#T_348f4_row19_col20,#T_348f4_row20_col0,#T_348f4_row20_col1,#T_348f4_row20_col2,#T_348f4_row20_col3,#T_348f4_row20_col4,#T_348f4_row20_col5,#T_348f4_row20_col6,#T_348f4_row20_col7,#T_348f4_row20_col8,#T_348f4_row20_col11,#T_348f4_row20_col12,#T_348f4_row20_col13,#T_348f4_row20_col14,#T_348f4_row20_col15,#T_348f4_row20_col16,#T_348f4_row20_col17,#T_348f4_row20_col18,#T_348f4_row20_col19{\n",
       "            background-color:  #3b4cc0;\n",
       "            color:  #f1f1f1;\n",
       "        }#T_348f4_row0_col10{\n",
       "            background-color:  #c3d5f4;\n",
       "            color:  #000000;\n",
       "        }#T_348f4_row0_col11,#T_348f4_row1_col12,#T_348f4_row2_col13,#T_348f4_row3_col14,#T_348f4_row4_col15,#T_348f4_row5_col16,#T_348f4_row6_col17,#T_348f4_row7_col18,#T_348f4_row8_col19,#T_348f4_row9_col20,#T_348f4_row11_col0,#T_348f4_row12_col1,#T_348f4_row13_col2,#T_348f4_row14_col3,#T_348f4_row15_col4,#T_348f4_row16_col5,#T_348f4_row17_col6,#T_348f4_row18_col7,#T_348f4_row19_col8,#T_348f4_row20_col9{\n",
       "            background-color:  #c0282f;\n",
       "            color:  #f1f1f1;\n",
       "        }#T_348f4_row1_col10{\n",
       "            background-color:  #6a8bef;\n",
       "            color:  #000000;\n",
       "        }#T_348f4_row2_col10{\n",
       "            background-color:  #b3cdfb;\n",
       "            color:  #000000;\n",
       "        }#T_348f4_row3_col10,#T_348f4_row10_col2,#T_348f4_row11_col10{\n",
       "            background-color:  #bfd3f6;\n",
       "            color:  #000000;\n",
       "        }#T_348f4_row4_col10{\n",
       "            background-color:  #adc9fd;\n",
       "            color:  #000000;\n",
       "        }#T_348f4_row6_col10{\n",
       "            background-color:  #7b9ff9;\n",
       "            color:  #000000;\n",
       "        }#T_348f4_row7_col10{\n",
       "            background-color:  #485fd1;\n",
       "            color:  #f1f1f1;\n",
       "        }#T_348f4_row8_col10{\n",
       "            background-color:  #c5d6f2;\n",
       "            color:  #000000;\n",
       "        }#T_348f4_row9_col10{\n",
       "            background-color:  #5572df;\n",
       "            color:  #000000;\n",
       "        }#T_348f4_row10_col0{\n",
       "            background-color:  #ccd9ed;\n",
       "            color:  #000000;\n",
       "        }#T_348f4_row10_col1{\n",
       "            background-color:  #7a9df8;\n",
       "            color:  #000000;\n",
       "        }#T_348f4_row10_col3,#T_348f4_row10_col11{\n",
       "            background-color:  #c9d7f0;\n",
       "            color:  #000000;\n",
       "        }#T_348f4_row10_col4{\n",
       "            background-color:  #b9d0f9;\n",
       "            color:  #000000;\n",
       "        }#T_348f4_row10_col5{\n",
       "            background-color:  #4b64d5;\n",
       "            color:  #f1f1f1;\n",
       "        }#T_348f4_row10_col6{\n",
       "            background-color:  #8badfd;\n",
       "            color:  #000000;\n",
       "        }#T_348f4_row10_col7{\n",
       "            background-color:  #5875e1;\n",
       "            color:  #000000;\n",
       "        }#T_348f4_row10_col8{\n",
       "            background-color:  #cedaeb;\n",
       "            color:  #000000;\n",
       "        }#T_348f4_row10_col9{\n",
       "            background-color:  #6485ec;\n",
       "            color:  #000000;\n",
       "        }#T_348f4_row10_col12{\n",
       "            background-color:  #779af7;\n",
       "            color:  #000000;\n",
       "        }#T_348f4_row10_col13,#T_348f4_row14_col10{\n",
       "            background-color:  #bad0f8;\n",
       "            color:  #000000;\n",
       "        }#T_348f4_row10_col14{\n",
       "            background-color:  #c4d5f3;\n",
       "            color:  #000000;\n",
       "        }#T_348f4_row10_col15{\n",
       "            background-color:  #b5cdfa;\n",
       "            color:  #000000;\n",
       "        }#T_348f4_row10_col16{\n",
       "            background-color:  #4a63d3;\n",
       "            color:  #f1f1f1;\n",
       "        }#T_348f4_row10_col17{\n",
       "            background-color:  #88abfd;\n",
       "            color:  #000000;\n",
       "        }#T_348f4_row10_col18{\n",
       "            background-color:  #5673e0;\n",
       "            color:  #000000;\n",
       "        }#T_348f4_row10_col19{\n",
       "            background-color:  #cad8ef;\n",
       "            color:  #000000;\n",
       "        }#T_348f4_row10_col20{\n",
       "            background-color:  #6384eb;\n",
       "            color:  #000000;\n",
       "        }#T_348f4_row12_col10{\n",
       "            background-color:  #6788ee;\n",
       "            color:  #000000;\n",
       "        }#T_348f4_row13_col10{\n",
       "            background-color:  #aec9fc;\n",
       "            color:  #000000;\n",
       "        }#T_348f4_row15_col10{\n",
       "            background-color:  #a9c6fd;\n",
       "            color:  #000000;\n",
       "        }#T_348f4_row17_col10{\n",
       "            background-color:  #799cf8;\n",
       "            color:  #000000;\n",
       "        }#T_348f4_row18_col10{\n",
       "            background-color:  #465ecf;\n",
       "            color:  #f1f1f1;\n",
       "        }#T_348f4_row19_col10{\n",
       "            background-color:  #c0d4f5;\n",
       "            color:  #000000;\n",
       "        }#T_348f4_row20_col10{\n",
       "            background-color:  #536edd;\n",
       "            color:  #000000;\n",
       "        }</style><table id=\"T_348f4_\" ><thead>    <tr>        <th class=\"blank level0\" ></th>        <th class=\"col_heading level0 col0\" >feat_1</th>        <th class=\"col_heading level0 col1\" >feat_2</th>        <th class=\"col_heading level0 col2\" >feat_3</th>        <th class=\"col_heading level0 col3\" >feat_4</th>        <th class=\"col_heading level0 col4\" >feat_5</th>        <th class=\"col_heading level0 col5\" >feat_6</th>        <th class=\"col_heading level0 col6\" >feat_7</th>        <th class=\"col_heading level0 col7\" >feat_8</th>        <th class=\"col_heading level0 col8\" >feat_9</th>        <th class=\"col_heading level0 col9\" >feat_10</th>        <th class=\"col_heading level0 col10\" >y</th>        <th class=\"col_heading level0 col11\" >feat_1_bin</th>        <th class=\"col_heading level0 col12\" >feat_2_bin</th>        <th class=\"col_heading level0 col13\" >feat_3_bin</th>        <th class=\"col_heading level0 col14\" >feat_4_bin</th>        <th class=\"col_heading level0 col15\" >feat_5_bin</th>        <th class=\"col_heading level0 col16\" >feat_6_bin</th>        <th class=\"col_heading level0 col17\" >feat_7_bin</th>        <th class=\"col_heading level0 col18\" >feat_8_bin</th>        <th class=\"col_heading level0 col19\" >feat_9_bin</th>        <th class=\"col_heading level0 col20\" >feat_10_bin</th>    </tr></thead><tbody>\n",
       "                <tr>\n",
       "                        <th id=\"T_348f4_level0_row0\" class=\"row_heading level0 row0\" >feat_1</th>\n",
       "                        <td id=\"T_348f4_row0_col0\" class=\"data row0 col0\" >1.000000</td>\n",
       "                        <td id=\"T_348f4_row0_col1\" class=\"data row0 col1\" >0.000754</td>\n",
       "                        <td id=\"T_348f4_row0_col2\" class=\"data row0 col2\" >-0.000528</td>\n",
       "                        <td id=\"T_348f4_row0_col3\" class=\"data row0 col3\" >0.000694</td>\n",
       "                        <td id=\"T_348f4_row0_col4\" class=\"data row0 col4\" >-0.000399</td>\n",
       "                        <td id=\"T_348f4_row0_col5\" class=\"data row0 col5\" >0.000869</td>\n",
       "                        <td id=\"T_348f4_row0_col6\" class=\"data row0 col6\" >0.000793</td>\n",
       "                        <td id=\"T_348f4_row0_col7\" class=\"data row0 col7\" >0.000086</td>\n",
       "                        <td id=\"T_348f4_row0_col8\" class=\"data row0 col8\" >-0.000287</td>\n",
       "                        <td id=\"T_348f4_row0_col9\" class=\"data row0 col9\" >0.000030</td>\n",
       "                        <td id=\"T_348f4_row0_col10\" class=\"data row0 col10\" >0.440804</td>\n",
       "                        <td id=\"T_348f4_row0_col11\" class=\"data row0 col11\" >0.967122</td>\n",
       "                        <td id=\"T_348f4_row0_col12\" class=\"data row0 col12\" >0.000671</td>\n",
       "                        <td id=\"T_348f4_row0_col13\" class=\"data row0 col13\" >-0.000751</td>\n",
       "                        <td id=\"T_348f4_row0_col14\" class=\"data row0 col14\" >0.000804</td>\n",
       "                        <td id=\"T_348f4_row0_col15\" class=\"data row0 col15\" >-0.000100</td>\n",
       "                        <td id=\"T_348f4_row0_col16\" class=\"data row0 col16\" >0.000955</td>\n",
       "                        <td id=\"T_348f4_row0_col17\" class=\"data row0 col17\" >0.000748</td>\n",
       "                        <td id=\"T_348f4_row0_col18\" class=\"data row0 col18\" >-0.000140</td>\n",
       "                        <td id=\"T_348f4_row0_col19\" class=\"data row0 col19\" >-0.000394</td>\n",
       "                        <td id=\"T_348f4_row0_col20\" class=\"data row0 col20\" >0.000122</td>\n",
       "            </tr>\n",
       "            <tr>\n",
       "                        <th id=\"T_348f4_level0_row1\" class=\"row_heading level0 row1\" >feat_2</th>\n",
       "                        <td id=\"T_348f4_row1_col0\" class=\"data row1 col0\" >0.000754</td>\n",
       "                        <td id=\"T_348f4_row1_col1\" class=\"data row1 col1\" >1.000000</td>\n",
       "                        <td id=\"T_348f4_row1_col2\" class=\"data row1 col2\" >0.000237</td>\n",
       "                        <td id=\"T_348f4_row1_col3\" class=\"data row1 col3\" >0.000097</td>\n",
       "                        <td id=\"T_348f4_row1_col4\" class=\"data row1 col4\" >-0.000462</td>\n",
       "                        <td id=\"T_348f4_row1_col5\" class=\"data row1 col5\" >0.001535</td>\n",
       "                        <td id=\"T_348f4_row1_col6\" class=\"data row1 col6\" >0.000531</td>\n",
       "                        <td id=\"T_348f4_row1_col7\" class=\"data row1 col7\" >-0.000859</td>\n",
       "                        <td id=\"T_348f4_row1_col8\" class=\"data row1 col8\" >0.000236</td>\n",
       "                        <td id=\"T_348f4_row1_col9\" class=\"data row1 col9\" >0.000149</td>\n",
       "                        <td id=\"T_348f4_row1_col10\" class=\"data row1 col10\" >0.194643</td>\n",
       "                        <td id=\"T_348f4_row1_col11\" class=\"data row1 col11\" >0.001043</td>\n",
       "                        <td id=\"T_348f4_row1_col12\" class=\"data row1 col12\" >0.967147</td>\n",
       "                        <td id=\"T_348f4_row1_col13\" class=\"data row1 col13\" >0.000321</td>\n",
       "                        <td id=\"T_348f4_row1_col14\" class=\"data row1 col14\" >0.000143</td>\n",
       "                        <td id=\"T_348f4_row1_col15\" class=\"data row1 col15\" >-0.000375</td>\n",
       "                        <td id=\"T_348f4_row1_col16\" class=\"data row1 col16\" >0.001552</td>\n",
       "                        <td id=\"T_348f4_row1_col17\" class=\"data row1 col17\" >0.000647</td>\n",
       "                        <td id=\"T_348f4_row1_col18\" class=\"data row1 col18\" >-0.000824</td>\n",
       "                        <td id=\"T_348f4_row1_col19\" class=\"data row1 col19\" >0.000186</td>\n",
       "                        <td id=\"T_348f4_row1_col20\" class=\"data row1 col20\" >0.000360</td>\n",
       "            </tr>\n",
       "            <tr>\n",
       "                        <th id=\"T_348f4_level0_row2\" class=\"row_heading level0 row2\" >feat_3</th>\n",
       "                        <td id=\"T_348f4_row2_col0\" class=\"data row2 col0\" >-0.000528</td>\n",
       "                        <td id=\"T_348f4_row2_col1\" class=\"data row2 col1\" >0.000237</td>\n",
       "                        <td id=\"T_348f4_row2_col2\" class=\"data row2 col2\" >1.000000</td>\n",
       "                        <td id=\"T_348f4_row2_col3\" class=\"data row2 col3\" >0.000197</td>\n",
       "                        <td id=\"T_348f4_row2_col4\" class=\"data row2 col4\" >-0.000950</td>\n",
       "                        <td id=\"T_348f4_row2_col5\" class=\"data row2 col5\" >-0.000743</td>\n",
       "                        <td id=\"T_348f4_row2_col6\" class=\"data row2 col6\" >0.000183</td>\n",
       "                        <td id=\"T_348f4_row2_col7\" class=\"data row2 col7\" >-0.000123</td>\n",
       "                        <td id=\"T_348f4_row2_col8\" class=\"data row2 col8\" >-0.001006</td>\n",
       "                        <td id=\"T_348f4_row2_col9\" class=\"data row2 col9\" >0.000459</td>\n",
       "                        <td id=\"T_348f4_row2_col10\" class=\"data row2 col10\" >0.394109</td>\n",
       "                        <td id=\"T_348f4_row2_col11\" class=\"data row2 col11\" >-0.000400</td>\n",
       "                        <td id=\"T_348f4_row2_col12\" class=\"data row2 col12\" >-0.000139</td>\n",
       "                        <td id=\"T_348f4_row2_col13\" class=\"data row2 col13\" >0.967060</td>\n",
       "                        <td id=\"T_348f4_row2_col14\" class=\"data row2 col14\" >0.000280</td>\n",
       "                        <td id=\"T_348f4_row2_col15\" class=\"data row2 col15\" >-0.000900</td>\n",
       "                        <td id=\"T_348f4_row2_col16\" class=\"data row2 col16\" >-0.000743</td>\n",
       "                        <td id=\"T_348f4_row2_col17\" class=\"data row2 col17\" >-0.000086</td>\n",
       "                        <td id=\"T_348f4_row2_col18\" class=\"data row2 col18\" >-0.000196</td>\n",
       "                        <td id=\"T_348f4_row2_col19\" class=\"data row2 col19\" >-0.000931</td>\n",
       "                        <td id=\"T_348f4_row2_col20\" class=\"data row2 col20\" >0.000341</td>\n",
       "            </tr>\n",
       "            <tr>\n",
       "                        <th id=\"T_348f4_level0_row3\" class=\"row_heading level0 row3\" >feat_4</th>\n",
       "                        <td id=\"T_348f4_row3_col0\" class=\"data row3 col0\" >0.000694</td>\n",
       "                        <td id=\"T_348f4_row3_col1\" class=\"data row3 col1\" >0.000097</td>\n",
       "                        <td id=\"T_348f4_row3_col2\" class=\"data row3 col2\" >0.000197</td>\n",
       "                        <td id=\"T_348f4_row3_col3\" class=\"data row3 col3\" >1.000000</td>\n",
       "                        <td id=\"T_348f4_row3_col4\" class=\"data row3 col4\" >0.000310</td>\n",
       "                        <td id=\"T_348f4_row3_col5\" class=\"data row3 col5\" >0.000601</td>\n",
       "                        <td id=\"T_348f4_row3_col6\" class=\"data row3 col6\" >-0.001409</td>\n",
       "                        <td id=\"T_348f4_row3_col7\" class=\"data row3 col7\" >0.000490</td>\n",
       "                        <td id=\"T_348f4_row3_col8\" class=\"data row3 col8\" >-0.000233</td>\n",
       "                        <td id=\"T_348f4_row3_col9\" class=\"data row3 col9\" >0.000191</td>\n",
       "                        <td id=\"T_348f4_row3_col10\" class=\"data row3 col10\" >0.426648</td>\n",
       "                        <td id=\"T_348f4_row3_col11\" class=\"data row3 col11\" >0.000505</td>\n",
       "                        <td id=\"T_348f4_row3_col12\" class=\"data row3 col12\" >0.000218</td>\n",
       "                        <td id=\"T_348f4_row3_col13\" class=\"data row3 col13\" >0.000409</td>\n",
       "                        <td id=\"T_348f4_row3_col14\" class=\"data row3 col14\" >0.967116</td>\n",
       "                        <td id=\"T_348f4_row3_col15\" class=\"data row3 col15\" >0.000401</td>\n",
       "                        <td id=\"T_348f4_row3_col16\" class=\"data row3 col16\" >0.000508</td>\n",
       "                        <td id=\"T_348f4_row3_col17\" class=\"data row3 col17\" >-0.001341</td>\n",
       "                        <td id=\"T_348f4_row3_col18\" class=\"data row3 col18\" >0.000363</td>\n",
       "                        <td id=\"T_348f4_row3_col19\" class=\"data row3 col19\" >-0.000317</td>\n",
       "                        <td id=\"T_348f4_row3_col20\" class=\"data row3 col20\" >0.000252</td>\n",
       "            </tr>\n",
       "            <tr>\n",
       "                        <th id=\"T_348f4_level0_row4\" class=\"row_heading level0 row4\" >feat_5</th>\n",
       "                        <td id=\"T_348f4_row4_col0\" class=\"data row4 col0\" >-0.000399</td>\n",
       "                        <td id=\"T_348f4_row4_col1\" class=\"data row4 col1\" >-0.000462</td>\n",
       "                        <td id=\"T_348f4_row4_col2\" class=\"data row4 col2\" >-0.000950</td>\n",
       "                        <td id=\"T_348f4_row4_col3\" class=\"data row4 col3\" >0.000310</td>\n",
       "                        <td id=\"T_348f4_row4_col4\" class=\"data row4 col4\" >1.000000</td>\n",
       "                        <td id=\"T_348f4_row4_col5\" class=\"data row4 col5\" >0.000959</td>\n",
       "                        <td id=\"T_348f4_row4_col6\" class=\"data row4 col6\" >0.000642</td>\n",
       "                        <td id=\"T_348f4_row4_col7\" class=\"data row4 col7\" >0.000168</td>\n",
       "                        <td id=\"T_348f4_row4_col8\" class=\"data row4 col8\" >-0.000169</td>\n",
       "                        <td id=\"T_348f4_row4_col9\" class=\"data row4 col9\" >-0.000326</td>\n",
       "                        <td id=\"T_348f4_row4_col10\" class=\"data row4 col10\" >0.377305</td>\n",
       "                        <td id=\"T_348f4_row4_col11\" class=\"data row4 col11\" >-0.000523</td>\n",
       "                        <td id=\"T_348f4_row4_col12\" class=\"data row4 col12\" >-0.000308</td>\n",
       "                        <td id=\"T_348f4_row4_col13\" class=\"data row4 col13\" >-0.000841</td>\n",
       "                        <td id=\"T_348f4_row4_col14\" class=\"data row4 col14\" >0.000500</td>\n",
       "                        <td id=\"T_348f4_row4_col15\" class=\"data row4 col15\" >0.967155</td>\n",
       "                        <td id=\"T_348f4_row4_col16\" class=\"data row4 col16\" >0.000996</td>\n",
       "                        <td id=\"T_348f4_row4_col17\" class=\"data row4 col17\" >0.000643</td>\n",
       "                        <td id=\"T_348f4_row4_col18\" class=\"data row4 col18\" >0.000206</td>\n",
       "                        <td id=\"T_348f4_row4_col19\" class=\"data row4 col19\" >-0.000026</td>\n",
       "                        <td id=\"T_348f4_row4_col20\" class=\"data row4 col20\" >-0.000444</td>\n",
       "            </tr>\n",
       "            <tr>\n",
       "                        <th id=\"T_348f4_level0_row5\" class=\"row_heading level0 row5\" >feat_6</th>\n",
       "                        <td id=\"T_348f4_row5_col0\" class=\"data row5 col0\" >0.000869</td>\n",
       "                        <td id=\"T_348f4_row5_col1\" class=\"data row5 col1\" >0.001535</td>\n",
       "                        <td id=\"T_348f4_row5_col2\" class=\"data row5 col2\" >-0.000743</td>\n",
       "                        <td id=\"T_348f4_row5_col3\" class=\"data row5 col3\" >0.000601</td>\n",
       "                        <td id=\"T_348f4_row5_col4\" class=\"data row5 col4\" >0.000959</td>\n",
       "                        <td id=\"T_348f4_row5_col5\" class=\"data row5 col5\" >1.000000</td>\n",
       "                        <td id=\"T_348f4_row5_col6\" class=\"data row5 col6\" >-0.000896</td>\n",
       "                        <td id=\"T_348f4_row5_col7\" class=\"data row5 col7\" >-0.000896</td>\n",
       "                        <td id=\"T_348f4_row5_col8\" class=\"data row5 col8\" >0.000533</td>\n",
       "                        <td id=\"T_348f4_row5_col9\" class=\"data row5 col9\" >0.000054</td>\n",
       "                        <td id=\"T_348f4_row5_col10\" class=\"data row5 col10\" >0.053749</td>\n",
       "                        <td id=\"T_348f4_row5_col11\" class=\"data row5 col11\" >0.000806</td>\n",
       "                        <td id=\"T_348f4_row5_col12\" class=\"data row5 col12\" >0.001409</td>\n",
       "                        <td id=\"T_348f4_row5_col13\" class=\"data row5 col13\" >-0.000607</td>\n",
       "                        <td id=\"T_348f4_row5_col14\" class=\"data row5 col14\" >0.000550</td>\n",
       "                        <td id=\"T_348f4_row5_col15\" class=\"data row5 col15\" >0.001078</td>\n",
       "                        <td id=\"T_348f4_row5_col16\" class=\"data row5 col16\" >0.967145</td>\n",
       "                        <td id=\"T_348f4_row5_col17\" class=\"data row5 col17\" >-0.000934</td>\n",
       "                        <td id=\"T_348f4_row5_col18\" class=\"data row5 col18\" >-0.001127</td>\n",
       "                        <td id=\"T_348f4_row5_col19\" class=\"data row5 col19\" >0.000708</td>\n",
       "                        <td id=\"T_348f4_row5_col20\" class=\"data row5 col20\" >-0.000186</td>\n",
       "            </tr>\n",
       "            <tr>\n",
       "                        <th id=\"T_348f4_level0_row6\" class=\"row_heading level0 row6\" >feat_7</th>\n",
       "                        <td id=\"T_348f4_row6_col0\" class=\"data row6 col0\" >0.000793</td>\n",
       "                        <td id=\"T_348f4_row6_col1\" class=\"data row6 col1\" >0.000531</td>\n",
       "                        <td id=\"T_348f4_row6_col2\" class=\"data row6 col2\" >0.000183</td>\n",
       "                        <td id=\"T_348f4_row6_col3\" class=\"data row6 col3\" >-0.001409</td>\n",
       "                        <td id=\"T_348f4_row6_col4\" class=\"data row6 col4\" >0.000642</td>\n",
       "                        <td id=\"T_348f4_row6_col5\" class=\"data row6 col5\" >-0.000896</td>\n",
       "                        <td id=\"T_348f4_row6_col6\" class=\"data row6 col6\" >1.000000</td>\n",
       "                        <td id=\"T_348f4_row6_col7\" class=\"data row6 col7\" >-0.000130</td>\n",
       "                        <td id=\"T_348f4_row6_col8\" class=\"data row6 col8\" >-0.000800</td>\n",
       "                        <td id=\"T_348f4_row6_col9\" class=\"data row6 col9\" >0.000330</td>\n",
       "                        <td id=\"T_348f4_row6_col10\" class=\"data row6 col10\" >0.242053</td>\n",
       "                        <td id=\"T_348f4_row6_col11\" class=\"data row6 col11\" >0.000857</td>\n",
       "                        <td id=\"T_348f4_row6_col12\" class=\"data row6 col12\" >0.000504</td>\n",
       "                        <td id=\"T_348f4_row6_col13\" class=\"data row6 col13\" >0.000229</td>\n",
       "                        <td id=\"T_348f4_row6_col14\" class=\"data row6 col14\" >-0.001496</td>\n",
       "                        <td id=\"T_348f4_row6_col15\" class=\"data row6 col15\" >0.000647</td>\n",
       "                        <td id=\"T_348f4_row6_col16\" class=\"data row6 col16\" >-0.001037</td>\n",
       "                        <td id=\"T_348f4_row6_col17\" class=\"data row6 col17\" >0.967229</td>\n",
       "                        <td id=\"T_348f4_row6_col18\" class=\"data row6 col18\" >-0.000092</td>\n",
       "                        <td id=\"T_348f4_row6_col19\" class=\"data row6 col19\" >-0.000536</td>\n",
       "                        <td id=\"T_348f4_row6_col20\" class=\"data row6 col20\" >0.000282</td>\n",
       "            </tr>\n",
       "            <tr>\n",
       "                        <th id=\"T_348f4_level0_row7\" class=\"row_heading level0 row7\" >feat_8</th>\n",
       "                        <td id=\"T_348f4_row7_col0\" class=\"data row7 col0\" >0.000086</td>\n",
       "                        <td id=\"T_348f4_row7_col1\" class=\"data row7 col1\" >-0.000859</td>\n",
       "                        <td id=\"T_348f4_row7_col2\" class=\"data row7 col2\" >-0.000123</td>\n",
       "                        <td id=\"T_348f4_row7_col3\" class=\"data row7 col3\" >0.000490</td>\n",
       "                        <td id=\"T_348f4_row7_col4\" class=\"data row7 col4\" >0.000168</td>\n",
       "                        <td id=\"T_348f4_row7_col5\" class=\"data row7 col5\" >-0.000896</td>\n",
       "                        <td id=\"T_348f4_row7_col6\" class=\"data row7 col6\" >-0.000130</td>\n",
       "                        <td id=\"T_348f4_row7_col7\" class=\"data row7 col7\" >1.000000</td>\n",
       "                        <td id=\"T_348f4_row7_col8\" class=\"data row7 col8\" >-0.000555</td>\n",
       "                        <td id=\"T_348f4_row7_col9\" class=\"data row7 col9\" >0.000752</td>\n",
       "                        <td id=\"T_348f4_row7_col10\" class=\"data row7 col10\" >0.093053</td>\n",
       "                        <td id=\"T_348f4_row7_col11\" class=\"data row7 col11\" >0.000073</td>\n",
       "                        <td id=\"T_348f4_row7_col12\" class=\"data row7 col12\" >-0.000958</td>\n",
       "                        <td id=\"T_348f4_row7_col13\" class=\"data row7 col13\" >-0.000146</td>\n",
       "                        <td id=\"T_348f4_row7_col14\" class=\"data row7 col14\" >0.000154</td>\n",
       "                        <td id=\"T_348f4_row7_col15\" class=\"data row7 col15\" >0.000165</td>\n",
       "                        <td id=\"T_348f4_row7_col16\" class=\"data row7 col16\" >-0.000836</td>\n",
       "                        <td id=\"T_348f4_row7_col17\" class=\"data row7 col17\" >-0.000117</td>\n",
       "                        <td id=\"T_348f4_row7_col18\" class=\"data row7 col18\" >0.967103</td>\n",
       "                        <td id=\"T_348f4_row7_col19\" class=\"data row7 col19\" >-0.000462</td>\n",
       "                        <td id=\"T_348f4_row7_col20\" class=\"data row7 col20\" >0.001052</td>\n",
       "            </tr>\n",
       "            <tr>\n",
       "                        <th id=\"T_348f4_level0_row8\" class=\"row_heading level0 row8\" >feat_9</th>\n",
       "                        <td id=\"T_348f4_row8_col0\" class=\"data row8 col0\" >-0.000287</td>\n",
       "                        <td id=\"T_348f4_row8_col1\" class=\"data row8 col1\" >0.000236</td>\n",
       "                        <td id=\"T_348f4_row8_col2\" class=\"data row8 col2\" >-0.001006</td>\n",
       "                        <td id=\"T_348f4_row8_col3\" class=\"data row8 col3\" >-0.000233</td>\n",
       "                        <td id=\"T_348f4_row8_col4\" class=\"data row8 col4\" >-0.000169</td>\n",
       "                        <td id=\"T_348f4_row8_col5\" class=\"data row8 col5\" >0.000533</td>\n",
       "                        <td id=\"T_348f4_row8_col6\" class=\"data row8 col6\" >-0.000800</td>\n",
       "                        <td id=\"T_348f4_row8_col7\" class=\"data row8 col7\" >-0.000555</td>\n",
       "                        <td id=\"T_348f4_row8_col8\" class=\"data row8 col8\" >1.000000</td>\n",
       "                        <td id=\"T_348f4_row8_col9\" class=\"data row8 col9\" >-0.000112</td>\n",
       "                        <td id=\"T_348f4_row8_col10\" class=\"data row8 col10\" >0.446607</td>\n",
       "                        <td id=\"T_348f4_row8_col11\" class=\"data row8 col11\" >-0.000302</td>\n",
       "                        <td id=\"T_348f4_row8_col12\" class=\"data row8 col12\" >0.000207</td>\n",
       "                        <td id=\"T_348f4_row8_col13\" class=\"data row8 col13\" >-0.000944</td>\n",
       "                        <td id=\"T_348f4_row8_col14\" class=\"data row8 col14\" >-0.000174</td>\n",
       "                        <td id=\"T_348f4_row8_col15\" class=\"data row8 col15\" >-0.000013</td>\n",
       "                        <td id=\"T_348f4_row8_col16\" class=\"data row8 col16\" >0.000577</td>\n",
       "                        <td id=\"T_348f4_row8_col17\" class=\"data row8 col17\" >-0.000712</td>\n",
       "                        <td id=\"T_348f4_row8_col18\" class=\"data row8 col18\" >-0.000556</td>\n",
       "                        <td id=\"T_348f4_row8_col19\" class=\"data row8 col19\" >0.967194</td>\n",
       "                        <td id=\"T_348f4_row8_col20\" class=\"data row8 col20\" >-0.000038</td>\n",
       "            </tr>\n",
       "            <tr>\n",
       "                        <th id=\"T_348f4_level0_row9\" class=\"row_heading level0 row9\" >feat_10</th>\n",
       "                        <td id=\"T_348f4_row9_col0\" class=\"data row9 col0\" >0.000030</td>\n",
       "                        <td id=\"T_348f4_row9_col1\" class=\"data row9 col1\" >0.000149</td>\n",
       "                        <td id=\"T_348f4_row9_col2\" class=\"data row9 col2\" >0.000459</td>\n",
       "                        <td id=\"T_348f4_row9_col3\" class=\"data row9 col3\" >0.000191</td>\n",
       "                        <td id=\"T_348f4_row9_col4\" class=\"data row9 col4\" >-0.000326</td>\n",
       "                        <td id=\"T_348f4_row9_col5\" class=\"data row9 col5\" >0.000054</td>\n",
       "                        <td id=\"T_348f4_row9_col6\" class=\"data row9 col6\" >0.000330</td>\n",
       "                        <td id=\"T_348f4_row9_col7\" class=\"data row9 col7\" >0.000752</td>\n",
       "                        <td id=\"T_348f4_row9_col8\" class=\"data row9 col8\" >-0.000112</td>\n",
       "                        <td id=\"T_348f4_row9_col9\" class=\"data row9 col9\" >1.000000</td>\n",
       "                        <td id=\"T_348f4_row9_col10\" class=\"data row9 col10\" >0.133774</td>\n",
       "                        <td id=\"T_348f4_row9_col11\" class=\"data row9 col11\" >0.000081</td>\n",
       "                        <td id=\"T_348f4_row9_col12\" class=\"data row9 col12\" >0.000337</td>\n",
       "                        <td id=\"T_348f4_row9_col13\" class=\"data row9 col13\" >0.000320</td>\n",
       "                        <td id=\"T_348f4_row9_col14\" class=\"data row9 col14\" >0.000222</td>\n",
       "                        <td id=\"T_348f4_row9_col15\" class=\"data row9 col15\" >-0.000456</td>\n",
       "                        <td id=\"T_348f4_row9_col16\" class=\"data row9 col16\" >0.000136</td>\n",
       "                        <td id=\"T_348f4_row9_col17\" class=\"data row9 col17\" >0.000216</td>\n",
       "                        <td id=\"T_348f4_row9_col18\" class=\"data row9 col18\" >0.000940</td>\n",
       "                        <td id=\"T_348f4_row9_col19\" class=\"data row9 col19\" >-0.000063</td>\n",
       "                        <td id=\"T_348f4_row9_col20\" class=\"data row9 col20\" >0.967209</td>\n",
       "            </tr>\n",
       "            <tr>\n",
       "                        <th id=\"T_348f4_level0_row10\" class=\"row_heading level0 row10\" >y</th>\n",
       "                        <td id=\"T_348f4_row10_col0\" class=\"data row10 col0\" >0.440804</td>\n",
       "                        <td id=\"T_348f4_row10_col1\" class=\"data row10 col1\" >0.194643</td>\n",
       "                        <td id=\"T_348f4_row10_col2\" class=\"data row10 col2\" >0.394109</td>\n",
       "                        <td id=\"T_348f4_row10_col3\" class=\"data row10 col3\" >0.426648</td>\n",
       "                        <td id=\"T_348f4_row10_col4\" class=\"data row10 col4\" >0.377305</td>\n",
       "                        <td id=\"T_348f4_row10_col5\" class=\"data row10 col5\" >0.053749</td>\n",
       "                        <td id=\"T_348f4_row10_col6\" class=\"data row10 col6\" >0.242053</td>\n",
       "                        <td id=\"T_348f4_row10_col7\" class=\"data row10 col7\" >0.093053</td>\n",
       "                        <td id=\"T_348f4_row10_col8\" class=\"data row10 col8\" >0.446607</td>\n",
       "                        <td id=\"T_348f4_row10_col9\" class=\"data row10 col9\" >0.133774</td>\n",
       "                        <td id=\"T_348f4_row10_col10\" class=\"data row10 col10\" >1.000000</td>\n",
       "                        <td id=\"T_348f4_row10_col11\" class=\"data row10 col11\" >0.426307</td>\n",
       "                        <td id=\"T_348f4_row10_col12\" class=\"data row10 col12\" >0.188180</td>\n",
       "                        <td id=\"T_348f4_row10_col13\" class=\"data row10 col13\" >0.381174</td>\n",
       "                        <td id=\"T_348f4_row10_col14\" class=\"data row10 col14\" >0.412760</td>\n",
       "                        <td id=\"T_348f4_row10_col15\" class=\"data row10 col15\" >0.365166</td>\n",
       "                        <td id=\"T_348f4_row10_col16\" class=\"data row10 col16\" >0.052033</td>\n",
       "                        <td id=\"T_348f4_row10_col17\" class=\"data row10 col17\" >0.234064</td>\n",
       "                        <td id=\"T_348f4_row10_col18\" class=\"data row10 col18\" >0.089847</td>\n",
       "                        <td id=\"T_348f4_row10_col19\" class=\"data row10 col19\" >0.432006</td>\n",
       "                        <td id=\"T_348f4_row10_col20\" class=\"data row10 col20\" >0.129450</td>\n",
       "            </tr>\n",
       "            <tr>\n",
       "                        <th id=\"T_348f4_level0_row11\" class=\"row_heading level0 row11\" >feat_1_bin</th>\n",
       "                        <td id=\"T_348f4_row11_col0\" class=\"data row11 col0\" >0.967122</td>\n",
       "                        <td id=\"T_348f4_row11_col1\" class=\"data row11 col1\" >0.001043</td>\n",
       "                        <td id=\"T_348f4_row11_col2\" class=\"data row11 col2\" >-0.000400</td>\n",
       "                        <td id=\"T_348f4_row11_col3\" class=\"data row11 col3\" >0.000505</td>\n",
       "                        <td id=\"T_348f4_row11_col4\" class=\"data row11 col4\" >-0.000523</td>\n",
       "                        <td id=\"T_348f4_row11_col5\" class=\"data row11 col5\" >0.000806</td>\n",
       "                        <td id=\"T_348f4_row11_col6\" class=\"data row11 col6\" >0.000857</td>\n",
       "                        <td id=\"T_348f4_row11_col7\" class=\"data row11 col7\" >0.000073</td>\n",
       "                        <td id=\"T_348f4_row11_col8\" class=\"data row11 col8\" >-0.000302</td>\n",
       "                        <td id=\"T_348f4_row11_col9\" class=\"data row11 col9\" >0.000081</td>\n",
       "                        <td id=\"T_348f4_row11_col10\" class=\"data row11 col10\" >0.426307</td>\n",
       "                        <td id=\"T_348f4_row11_col11\" class=\"data row11 col11\" >1.000000</td>\n",
       "                        <td id=\"T_348f4_row11_col12\" class=\"data row11 col12\" >0.000979</td>\n",
       "                        <td id=\"T_348f4_row11_col13\" class=\"data row11 col13\" >-0.000576</td>\n",
       "                        <td id=\"T_348f4_row11_col14\" class=\"data row11 col14\" >0.000612</td>\n",
       "                        <td id=\"T_348f4_row11_col15\" class=\"data row11 col15\" >-0.000302</td>\n",
       "                        <td id=\"T_348f4_row11_col16\" class=\"data row11 col16\" >0.000888</td>\n",
       "                        <td id=\"T_348f4_row11_col17\" class=\"data row11 col17\" >0.000833</td>\n",
       "                        <td id=\"T_348f4_row11_col18\" class=\"data row11 col18\" >-0.000189</td>\n",
       "                        <td id=\"T_348f4_row11_col19\" class=\"data row11 col19\" >-0.000402</td>\n",
       "                        <td id=\"T_348f4_row11_col20\" class=\"data row11 col20\" >0.000183</td>\n",
       "            </tr>\n",
       "            <tr>\n",
       "                        <th id=\"T_348f4_level0_row12\" class=\"row_heading level0 row12\" >feat_2_bin</th>\n",
       "                        <td id=\"T_348f4_row12_col0\" class=\"data row12 col0\" >0.000671</td>\n",
       "                        <td id=\"T_348f4_row12_col1\" class=\"data row12 col1\" >0.967147</td>\n",
       "                        <td id=\"T_348f4_row12_col2\" class=\"data row12 col2\" >-0.000139</td>\n",
       "                        <td id=\"T_348f4_row12_col3\" class=\"data row12 col3\" >0.000218</td>\n",
       "                        <td id=\"T_348f4_row12_col4\" class=\"data row12 col4\" >-0.000308</td>\n",
       "                        <td id=\"T_348f4_row12_col5\" class=\"data row12 col5\" >0.001409</td>\n",
       "                        <td id=\"T_348f4_row12_col6\" class=\"data row12 col6\" >0.000504</td>\n",
       "                        <td id=\"T_348f4_row12_col7\" class=\"data row12 col7\" >-0.000958</td>\n",
       "                        <td id=\"T_348f4_row12_col8\" class=\"data row12 col8\" >0.000207</td>\n",
       "                        <td id=\"T_348f4_row12_col9\" class=\"data row12 col9\" >0.000337</td>\n",
       "                        <td id=\"T_348f4_row12_col10\" class=\"data row12 col10\" >0.188180</td>\n",
       "                        <td id=\"T_348f4_row12_col11\" class=\"data row12 col11\" >0.000979</td>\n",
       "                        <td id=\"T_348f4_row12_col12\" class=\"data row12 col12\" >1.000000</td>\n",
       "                        <td id=\"T_348f4_row12_col13\" class=\"data row12 col13\" >-0.000016</td>\n",
       "                        <td id=\"T_348f4_row12_col14\" class=\"data row12 col14\" >0.000254</td>\n",
       "                        <td id=\"T_348f4_row12_col15\" class=\"data row12 col15\" >-0.000210</td>\n",
       "                        <td id=\"T_348f4_row12_col16\" class=\"data row12 col16\" >0.001341</td>\n",
       "                        <td id=\"T_348f4_row12_col17\" class=\"data row12 col17\" >0.000637</td>\n",
       "                        <td id=\"T_348f4_row12_col18\" class=\"data row12 col18\" >-0.000933</td>\n",
       "                        <td id=\"T_348f4_row12_col19\" class=\"data row12 col19\" >0.000152</td>\n",
       "                        <td id=\"T_348f4_row12_col20\" class=\"data row12 col20\" >0.000517</td>\n",
       "            </tr>\n",
       "            <tr>\n",
       "                        <th id=\"T_348f4_level0_row13\" class=\"row_heading level0 row13\" >feat_3_bin</th>\n",
       "                        <td id=\"T_348f4_row13_col0\" class=\"data row13 col0\" >-0.000751</td>\n",
       "                        <td id=\"T_348f4_row13_col1\" class=\"data row13 col1\" >0.000321</td>\n",
       "                        <td id=\"T_348f4_row13_col2\" class=\"data row13 col2\" >0.967060</td>\n",
       "                        <td id=\"T_348f4_row13_col3\" class=\"data row13 col3\" >0.000409</td>\n",
       "                        <td id=\"T_348f4_row13_col4\" class=\"data row13 col4\" >-0.000841</td>\n",
       "                        <td id=\"T_348f4_row13_col5\" class=\"data row13 col5\" >-0.000607</td>\n",
       "                        <td id=\"T_348f4_row13_col6\" class=\"data row13 col6\" >0.000229</td>\n",
       "                        <td id=\"T_348f4_row13_col7\" class=\"data row13 col7\" >-0.000146</td>\n",
       "                        <td id=\"T_348f4_row13_col8\" class=\"data row13 col8\" >-0.000944</td>\n",
       "                        <td id=\"T_348f4_row13_col9\" class=\"data row13 col9\" >0.000320</td>\n",
       "                        <td id=\"T_348f4_row13_col10\" class=\"data row13 col10\" >0.381174</td>\n",
       "                        <td id=\"T_348f4_row13_col11\" class=\"data row13 col11\" >-0.000576</td>\n",
       "                        <td id=\"T_348f4_row13_col12\" class=\"data row13 col12\" >-0.000016</td>\n",
       "                        <td id=\"T_348f4_row13_col13\" class=\"data row13 col13\" >1.000000</td>\n",
       "                        <td id=\"T_348f4_row13_col14\" class=\"data row13 col14\" >0.000479</td>\n",
       "                        <td id=\"T_348f4_row13_col15\" class=\"data row13 col15\" >-0.000810</td>\n",
       "                        <td id=\"T_348f4_row13_col16\" class=\"data row13 col16\" >-0.000533</td>\n",
       "                        <td id=\"T_348f4_row13_col17\" class=\"data row13 col17\" >-0.000061</td>\n",
       "                        <td id=\"T_348f4_row13_col18\" class=\"data row13 col18\" >-0.000222</td>\n",
       "                        <td id=\"T_348f4_row13_col19\" class=\"data row13 col19\" >-0.000920</td>\n",
       "                        <td id=\"T_348f4_row13_col20\" class=\"data row13 col20\" >0.000203</td>\n",
       "            </tr>\n",
       "            <tr>\n",
       "                        <th id=\"T_348f4_level0_row14\" class=\"row_heading level0 row14\" >feat_4_bin</th>\n",
       "                        <td id=\"T_348f4_row14_col0\" class=\"data row14 col0\" >0.000804</td>\n",
       "                        <td id=\"T_348f4_row14_col1\" class=\"data row14 col1\" >0.000143</td>\n",
       "                        <td id=\"T_348f4_row14_col2\" class=\"data row14 col2\" >0.000280</td>\n",
       "                        <td id=\"T_348f4_row14_col3\" class=\"data row14 col3\" >0.967116</td>\n",
       "                        <td id=\"T_348f4_row14_col4\" class=\"data row14 col4\" >0.000500</td>\n",
       "                        <td id=\"T_348f4_row14_col5\" class=\"data row14 col5\" >0.000550</td>\n",
       "                        <td id=\"T_348f4_row14_col6\" class=\"data row14 col6\" >-0.001496</td>\n",
       "                        <td id=\"T_348f4_row14_col7\" class=\"data row14 col7\" >0.000154</td>\n",
       "                        <td id=\"T_348f4_row14_col8\" class=\"data row14 col8\" >-0.000174</td>\n",
       "                        <td id=\"T_348f4_row14_col9\" class=\"data row14 col9\" >0.000222</td>\n",
       "                        <td id=\"T_348f4_row14_col10\" class=\"data row14 col10\" >0.412760</td>\n",
       "                        <td id=\"T_348f4_row14_col11\" class=\"data row14 col11\" >0.000612</td>\n",
       "                        <td id=\"T_348f4_row14_col12\" class=\"data row14 col12\" >0.000254</td>\n",
       "                        <td id=\"T_348f4_row14_col13\" class=\"data row14 col13\" >0.000479</td>\n",
       "                        <td id=\"T_348f4_row14_col14\" class=\"data row14 col14\" >1.000000</td>\n",
       "                        <td id=\"T_348f4_row14_col15\" class=\"data row14 col15\" >0.000579</td>\n",
       "                        <td id=\"T_348f4_row14_col16\" class=\"data row14 col16\" >0.000481</td>\n",
       "                        <td id=\"T_348f4_row14_col17\" class=\"data row14 col17\" >-0.001382</td>\n",
       "                        <td id=\"T_348f4_row14_col18\" class=\"data row14 col18\" >0.000081</td>\n",
       "                        <td id=\"T_348f4_row14_col19\" class=\"data row14 col19\" >-0.000258</td>\n",
       "                        <td id=\"T_348f4_row14_col20\" class=\"data row14 col20\" >0.000270</td>\n",
       "            </tr>\n",
       "            <tr>\n",
       "                        <th id=\"T_348f4_level0_row15\" class=\"row_heading level0 row15\" >feat_5_bin</th>\n",
       "                        <td id=\"T_348f4_row15_col0\" class=\"data row15 col0\" >-0.000100</td>\n",
       "                        <td id=\"T_348f4_row15_col1\" class=\"data row15 col1\" >-0.000375</td>\n",
       "                        <td id=\"T_348f4_row15_col2\" class=\"data row15 col2\" >-0.000900</td>\n",
       "                        <td id=\"T_348f4_row15_col3\" class=\"data row15 col3\" >0.000401</td>\n",
       "                        <td id=\"T_348f4_row15_col4\" class=\"data row15 col4\" >0.967155</td>\n",
       "                        <td id=\"T_348f4_row15_col5\" class=\"data row15 col5\" >0.001078</td>\n",
       "                        <td id=\"T_348f4_row15_col6\" class=\"data row15 col6\" >0.000647</td>\n",
       "                        <td id=\"T_348f4_row15_col7\" class=\"data row15 col7\" >0.000165</td>\n",
       "                        <td id=\"T_348f4_row15_col8\" class=\"data row15 col8\" >-0.000013</td>\n",
       "                        <td id=\"T_348f4_row15_col9\" class=\"data row15 col9\" >-0.000456</td>\n",
       "                        <td id=\"T_348f4_row15_col10\" class=\"data row15 col10\" >0.365166</td>\n",
       "                        <td id=\"T_348f4_row15_col11\" class=\"data row15 col11\" >-0.000302</td>\n",
       "                        <td id=\"T_348f4_row15_col12\" class=\"data row15 col12\" >-0.000210</td>\n",
       "                        <td id=\"T_348f4_row15_col13\" class=\"data row15 col13\" >-0.000810</td>\n",
       "                        <td id=\"T_348f4_row15_col14\" class=\"data row15 col14\" >0.000579</td>\n",
       "                        <td id=\"T_348f4_row15_col15\" class=\"data row15 col15\" >1.000000</td>\n",
       "                        <td id=\"T_348f4_row15_col16\" class=\"data row15 col16\" >0.001093</td>\n",
       "                        <td id=\"T_348f4_row15_col17\" class=\"data row15 col17\" >0.000670</td>\n",
       "                        <td id=\"T_348f4_row15_col18\" class=\"data row15 col18\" >0.000217</td>\n",
       "                        <td id=\"T_348f4_row15_col19\" class=\"data row15 col19\" >0.000113</td>\n",
       "                        <td id=\"T_348f4_row15_col20\" class=\"data row15 col20\" >-0.000616</td>\n",
       "            </tr>\n",
       "            <tr>\n",
       "                        <th id=\"T_348f4_level0_row16\" class=\"row_heading level0 row16\" >feat_6_bin</th>\n",
       "                        <td id=\"T_348f4_row16_col0\" class=\"data row16 col0\" >0.000955</td>\n",
       "                        <td id=\"T_348f4_row16_col1\" class=\"data row16 col1\" >0.001552</td>\n",
       "                        <td id=\"T_348f4_row16_col2\" class=\"data row16 col2\" >-0.000743</td>\n",
       "                        <td id=\"T_348f4_row16_col3\" class=\"data row16 col3\" >0.000508</td>\n",
       "                        <td id=\"T_348f4_row16_col4\" class=\"data row16 col4\" >0.000996</td>\n",
       "                        <td id=\"T_348f4_row16_col5\" class=\"data row16 col5\" >0.967145</td>\n",
       "                        <td id=\"T_348f4_row16_col6\" class=\"data row16 col6\" >-0.001037</td>\n",
       "                        <td id=\"T_348f4_row16_col7\" class=\"data row16 col7\" >-0.000836</td>\n",
       "                        <td id=\"T_348f4_row16_col8\" class=\"data row16 col8\" >0.000577</td>\n",
       "                        <td id=\"T_348f4_row16_col9\" class=\"data row16 col9\" >0.000136</td>\n",
       "                        <td id=\"T_348f4_row16_col10\" class=\"data row16 col10\" >0.052033</td>\n",
       "                        <td id=\"T_348f4_row16_col11\" class=\"data row16 col11\" >0.000888</td>\n",
       "                        <td id=\"T_348f4_row16_col12\" class=\"data row16 col12\" >0.001341</td>\n",
       "                        <td id=\"T_348f4_row16_col13\" class=\"data row16 col13\" >-0.000533</td>\n",
       "                        <td id=\"T_348f4_row16_col14\" class=\"data row16 col14\" >0.000481</td>\n",
       "                        <td id=\"T_348f4_row16_col15\" class=\"data row16 col15\" >0.001093</td>\n",
       "                        <td id=\"T_348f4_row16_col16\" class=\"data row16 col16\" >1.000000</td>\n",
       "                        <td id=\"T_348f4_row16_col17\" class=\"data row16 col17\" >-0.001106</td>\n",
       "                        <td id=\"T_348f4_row16_col18\" class=\"data row16 col18\" >-0.001129</td>\n",
       "                        <td id=\"T_348f4_row16_col19\" class=\"data row16 col19\" >0.000692</td>\n",
       "                        <td id=\"T_348f4_row16_col20\" class=\"data row16 col20\" >-0.000103</td>\n",
       "            </tr>\n",
       "            <tr>\n",
       "                        <th id=\"T_348f4_level0_row17\" class=\"row_heading level0 row17\" >feat_7_bin</th>\n",
       "                        <td id=\"T_348f4_row17_col0\" class=\"data row17 col0\" >0.000748</td>\n",
       "                        <td id=\"T_348f4_row17_col1\" class=\"data row17 col1\" >0.000647</td>\n",
       "                        <td id=\"T_348f4_row17_col2\" class=\"data row17 col2\" >-0.000086</td>\n",
       "                        <td id=\"T_348f4_row17_col3\" class=\"data row17 col3\" >-0.001341</td>\n",
       "                        <td id=\"T_348f4_row17_col4\" class=\"data row17 col4\" >0.000643</td>\n",
       "                        <td id=\"T_348f4_row17_col5\" class=\"data row17 col5\" >-0.000934</td>\n",
       "                        <td id=\"T_348f4_row17_col6\" class=\"data row17 col6\" >0.967229</td>\n",
       "                        <td id=\"T_348f4_row17_col7\" class=\"data row17 col7\" >-0.000117</td>\n",
       "                        <td id=\"T_348f4_row17_col8\" class=\"data row17 col8\" >-0.000712</td>\n",
       "                        <td id=\"T_348f4_row17_col9\" class=\"data row17 col9\" >0.000216</td>\n",
       "                        <td id=\"T_348f4_row17_col10\" class=\"data row17 col10\" >0.234064</td>\n",
       "                        <td id=\"T_348f4_row17_col11\" class=\"data row17 col11\" >0.000833</td>\n",
       "                        <td id=\"T_348f4_row17_col12\" class=\"data row17 col12\" >0.000637</td>\n",
       "                        <td id=\"T_348f4_row17_col13\" class=\"data row17 col13\" >-0.000061</td>\n",
       "                        <td id=\"T_348f4_row17_col14\" class=\"data row17 col14\" >-0.001382</td>\n",
       "                        <td id=\"T_348f4_row17_col15\" class=\"data row17 col15\" >0.000670</td>\n",
       "                        <td id=\"T_348f4_row17_col16\" class=\"data row17 col16\" >-0.001106</td>\n",
       "                        <td id=\"T_348f4_row17_col17\" class=\"data row17 col17\" >1.000000</td>\n",
       "                        <td id=\"T_348f4_row17_col18\" class=\"data row17 col18\" >-0.000086</td>\n",
       "                        <td id=\"T_348f4_row17_col19\" class=\"data row17 col19\" >-0.000448</td>\n",
       "                        <td id=\"T_348f4_row17_col20\" class=\"data row17 col20\" >0.000168</td>\n",
       "            </tr>\n",
       "            <tr>\n",
       "                        <th id=\"T_348f4_level0_row18\" class=\"row_heading level0 row18\" >feat_8_bin</th>\n",
       "                        <td id=\"T_348f4_row18_col0\" class=\"data row18 col0\" >-0.000140</td>\n",
       "                        <td id=\"T_348f4_row18_col1\" class=\"data row18 col1\" >-0.000824</td>\n",
       "                        <td id=\"T_348f4_row18_col2\" class=\"data row18 col2\" >-0.000196</td>\n",
       "                        <td id=\"T_348f4_row18_col3\" class=\"data row18 col3\" >0.000363</td>\n",
       "                        <td id=\"T_348f4_row18_col4\" class=\"data row18 col4\" >0.000206</td>\n",
       "                        <td id=\"T_348f4_row18_col5\" class=\"data row18 col5\" >-0.001127</td>\n",
       "                        <td id=\"T_348f4_row18_col6\" class=\"data row18 col6\" >-0.000092</td>\n",
       "                        <td id=\"T_348f4_row18_col7\" class=\"data row18 col7\" >0.967103</td>\n",
       "                        <td id=\"T_348f4_row18_col8\" class=\"data row18 col8\" >-0.000556</td>\n",
       "                        <td id=\"T_348f4_row18_col9\" class=\"data row18 col9\" >0.000940</td>\n",
       "                        <td id=\"T_348f4_row18_col10\" class=\"data row18 col10\" >0.089847</td>\n",
       "                        <td id=\"T_348f4_row18_col11\" class=\"data row18 col11\" >-0.000189</td>\n",
       "                        <td id=\"T_348f4_row18_col12\" class=\"data row18 col12\" >-0.000933</td>\n",
       "                        <td id=\"T_348f4_row18_col13\" class=\"data row18 col13\" >-0.000222</td>\n",
       "                        <td id=\"T_348f4_row18_col14\" class=\"data row18 col14\" >0.000081</td>\n",
       "                        <td id=\"T_348f4_row18_col15\" class=\"data row18 col15\" >0.000217</td>\n",
       "                        <td id=\"T_348f4_row18_col16\" class=\"data row18 col16\" >-0.001129</td>\n",
       "                        <td id=\"T_348f4_row18_col17\" class=\"data row18 col17\" >-0.000086</td>\n",
       "                        <td id=\"T_348f4_row18_col18\" class=\"data row18 col18\" >1.000000</td>\n",
       "                        <td id=\"T_348f4_row18_col19\" class=\"data row18 col19\" >-0.000459</td>\n",
       "                        <td id=\"T_348f4_row18_col20\" class=\"data row18 col20\" >0.001142</td>\n",
       "            </tr>\n",
       "            <tr>\n",
       "                        <th id=\"T_348f4_level0_row19\" class=\"row_heading level0 row19\" >feat_9_bin</th>\n",
       "                        <td id=\"T_348f4_row19_col0\" class=\"data row19 col0\" >-0.000394</td>\n",
       "                        <td id=\"T_348f4_row19_col1\" class=\"data row19 col1\" >0.000186</td>\n",
       "                        <td id=\"T_348f4_row19_col2\" class=\"data row19 col2\" >-0.000931</td>\n",
       "                        <td id=\"T_348f4_row19_col3\" class=\"data row19 col3\" >-0.000317</td>\n",
       "                        <td id=\"T_348f4_row19_col4\" class=\"data row19 col4\" >-0.000026</td>\n",
       "                        <td id=\"T_348f4_row19_col5\" class=\"data row19 col5\" >0.000708</td>\n",
       "                        <td id=\"T_348f4_row19_col6\" class=\"data row19 col6\" >-0.000536</td>\n",
       "                        <td id=\"T_348f4_row19_col7\" class=\"data row19 col7\" >-0.000462</td>\n",
       "                        <td id=\"T_348f4_row19_col8\" class=\"data row19 col8\" >0.967194</td>\n",
       "                        <td id=\"T_348f4_row19_col9\" class=\"data row19 col9\" >-0.000063</td>\n",
       "                        <td id=\"T_348f4_row19_col10\" class=\"data row19 col10\" >0.432006</td>\n",
       "                        <td id=\"T_348f4_row19_col11\" class=\"data row19 col11\" >-0.000402</td>\n",
       "                        <td id=\"T_348f4_row19_col12\" class=\"data row19 col12\" >0.000152</td>\n",
       "                        <td id=\"T_348f4_row19_col13\" class=\"data row19 col13\" >-0.000920</td>\n",
       "                        <td id=\"T_348f4_row19_col14\" class=\"data row19 col14\" >-0.000258</td>\n",
       "                        <td id=\"T_348f4_row19_col15\" class=\"data row19 col15\" >0.000113</td>\n",
       "                        <td id=\"T_348f4_row19_col16\" class=\"data row19 col16\" >0.000692</td>\n",
       "                        <td id=\"T_348f4_row19_col17\" class=\"data row19 col17\" >-0.000448</td>\n",
       "                        <td id=\"T_348f4_row19_col18\" class=\"data row19 col18\" >-0.000459</td>\n",
       "                        <td id=\"T_348f4_row19_col19\" class=\"data row19 col19\" >1.000000</td>\n",
       "                        <td id=\"T_348f4_row19_col20\" class=\"data row19 col20\" >0.000013</td>\n",
       "            </tr>\n",
       "            <tr>\n",
       "                        <th id=\"T_348f4_level0_row20\" class=\"row_heading level0 row20\" >feat_10_bin</th>\n",
       "                        <td id=\"T_348f4_row20_col0\" class=\"data row20 col0\" >0.000122</td>\n",
       "                        <td id=\"T_348f4_row20_col1\" class=\"data row20 col1\" >0.000360</td>\n",
       "                        <td id=\"T_348f4_row20_col2\" class=\"data row20 col2\" >0.000341</td>\n",
       "                        <td id=\"T_348f4_row20_col3\" class=\"data row20 col3\" >0.000252</td>\n",
       "                        <td id=\"T_348f4_row20_col4\" class=\"data row20 col4\" >-0.000444</td>\n",
       "                        <td id=\"T_348f4_row20_col5\" class=\"data row20 col5\" >-0.000186</td>\n",
       "                        <td id=\"T_348f4_row20_col6\" class=\"data row20 col6\" >0.000282</td>\n",
       "                        <td id=\"T_348f4_row20_col7\" class=\"data row20 col7\" >0.001052</td>\n",
       "                        <td id=\"T_348f4_row20_col8\" class=\"data row20 col8\" >-0.000038</td>\n",
       "                        <td id=\"T_348f4_row20_col9\" class=\"data row20 col9\" >0.967209</td>\n",
       "                        <td id=\"T_348f4_row20_col10\" class=\"data row20 col10\" >0.129450</td>\n",
       "                        <td id=\"T_348f4_row20_col11\" class=\"data row20 col11\" >0.000183</td>\n",
       "                        <td id=\"T_348f4_row20_col12\" class=\"data row20 col12\" >0.000517</td>\n",
       "                        <td id=\"T_348f4_row20_col13\" class=\"data row20 col13\" >0.000203</td>\n",
       "                        <td id=\"T_348f4_row20_col14\" class=\"data row20 col14\" >0.000270</td>\n",
       "                        <td id=\"T_348f4_row20_col15\" class=\"data row20 col15\" >-0.000616</td>\n",
       "                        <td id=\"T_348f4_row20_col16\" class=\"data row20 col16\" >-0.000103</td>\n",
       "                        <td id=\"T_348f4_row20_col17\" class=\"data row20 col17\" >0.000168</td>\n",
       "                        <td id=\"T_348f4_row20_col18\" class=\"data row20 col18\" >0.001142</td>\n",
       "                        <td id=\"T_348f4_row20_col19\" class=\"data row20 col19\" >0.000013</td>\n",
       "                        <td id=\"T_348f4_row20_col20\" class=\"data row20 col20\" >1.000000</td>\n",
       "            </tr>\n",
       "    </tbody></table>"
      ]
     },
     "metadata": {},
     "execution_count": 46
    }
   ],
   "metadata": {}
  },
  {
   "cell_type": "code",
   "execution_count": 47,
   "source": [
    "boxplots = []\n",
    "for i in range(1, N+1):\n",
    "    fig: PlotlyFigure = \\\n",
    "        plotter.boxplot(\n",
    "            data=plot_df.sample(100000),\n",
    "            x=f'feat_{i}_bin',\n",
    "            y='y',\n",
    "            points = False)\n",
    "    boxplots.append(fig)\n",
    "\n",
    "plotter.save_plots_to_html(\n",
    "    figures=boxplots, \n",
    "    file='./exhibits/boxplots.html')\n",
    "del(boxplots)\n"
   ],
   "outputs": [],
   "metadata": {}
  },
  {
   "cell_type": "code",
   "execution_count": 48,
   "source": [
    "scatterplots = [] \n",
    "for i in range(1, N+1):\n",
    "    fig: PlotlyFigure = \\\n",
    "        px.scatter(\n",
    "            data_frame=plot_df.sample(50000), \n",
    "            x=f'feat_{i}', \n",
    "            y='y',\n",
    "            render_mode='webgl')\n",
    "    scatterplots.append(fig)\n",
    "\n",
    "plotter.save_plots_to_html( #can only render 8 at most\n",
    "    figures=scatterplots, \n",
    "    file='./exhibits/scatterplots.html')\n",
    "del(scatterplots)"
   ],
   "outputs": [],
   "metadata": {}
  },
  {
   "cell_type": "code",
   "execution_count": 49,
   "source": [
    "for i in range(1, N+1):\n",
    "    fig = px.histogram(plot_df.sample(25000), x=f'feat_{i}', histnorm='probability density')\n",
    "    # fig.show()"
   ],
   "outputs": [],
   "metadata": {}
  },
  {
   "cell_type": "code",
   "execution_count": 201,
   "source": [
    "# create a q-q plot\n",
    "from scipy.stats import norm\n",
    "# from statsmodels.discrete.discrete_model import Logit as LogisticRegressor\n",
    "from statsmodels.formula.api import logit as LogisticRegressor\n",
    "from statsmodels.discrete.discrete_model import Logit"
   ],
   "outputs": [],
   "metadata": {}
  },
  {
   "cell_type": "code",
   "execution_count": 186,
   "source": [
    "data = sm.datasets.get_rdataset(\"Duncan\", \"carData\").data\n",
    "data['prestige_ge_60'] = np.where(data['prestige'] >= 60, 1, 0)\n",
    "data.head()"
   ],
   "outputs": [
    {
     "output_type": "execute_result",
     "data": {
      "text/plain": [
       "            type  income  education  prestige  prestige_ge_60\n",
       "accountant  prof      62         86        82               1\n",
       "pilot       prof      72         76        83               1\n",
       "architect   prof      75         92        90               1\n",
       "author      prof      55         90        76               1\n",
       "chemist     prof      64         86        90               1"
      ],
      "text/html": [
       "<div>\n",
       "<style scoped>\n",
       "    .dataframe tbody tr th:only-of-type {\n",
       "        vertical-align: middle;\n",
       "    }\n",
       "\n",
       "    .dataframe tbody tr th {\n",
       "        vertical-align: top;\n",
       "    }\n",
       "\n",
       "    .dataframe thead th {\n",
       "        text-align: right;\n",
       "    }\n",
       "</style>\n",
       "<table border=\"1\" class=\"dataframe\">\n",
       "  <thead>\n",
       "    <tr style=\"text-align: right;\">\n",
       "      <th></th>\n",
       "      <th>type</th>\n",
       "      <th>income</th>\n",
       "      <th>education</th>\n",
       "      <th>prestige</th>\n",
       "      <th>prestige_ge_60</th>\n",
       "    </tr>\n",
       "  </thead>\n",
       "  <tbody>\n",
       "    <tr>\n",
       "      <th>accountant</th>\n",
       "      <td>prof</td>\n",
       "      <td>62</td>\n",
       "      <td>86</td>\n",
       "      <td>82</td>\n",
       "      <td>1</td>\n",
       "    </tr>\n",
       "    <tr>\n",
       "      <th>pilot</th>\n",
       "      <td>prof</td>\n",
       "      <td>72</td>\n",
       "      <td>76</td>\n",
       "      <td>83</td>\n",
       "      <td>1</td>\n",
       "    </tr>\n",
       "    <tr>\n",
       "      <th>architect</th>\n",
       "      <td>prof</td>\n",
       "      <td>75</td>\n",
       "      <td>92</td>\n",
       "      <td>90</td>\n",
       "      <td>1</td>\n",
       "    </tr>\n",
       "    <tr>\n",
       "      <th>author</th>\n",
       "      <td>prof</td>\n",
       "      <td>55</td>\n",
       "      <td>90</td>\n",
       "      <td>76</td>\n",
       "      <td>1</td>\n",
       "    </tr>\n",
       "    <tr>\n",
       "      <th>chemist</th>\n",
       "      <td>prof</td>\n",
       "      <td>64</td>\n",
       "      <td>86</td>\n",
       "      <td>90</td>\n",
       "      <td>1</td>\n",
       "    </tr>\n",
       "  </tbody>\n",
       "</table>\n",
       "</div>"
      ]
     },
     "metadata": {},
     "execution_count": 186
    }
   ],
   "metadata": {}
  },
  {
   "cell_type": "code",
   "execution_count": 189,
   "source": [
    "predictors = [\n",
    "    'income',\n",
    "    'education'\n",
    "]\n",
    "formula = '+'.join(predictors)\n",
    "model: Logit = (\n",
    "    LogisticRegressor(\n",
    "        formula=f'prestige_ge_60 ~ {formula}',\n",
    "        data=data)\n",
    "    .fit() \n",
    ")"
   ],
   "outputs": [
    {
     "output_type": "stream",
     "name": "stdout",
     "text": [
      "Optimization terminated successfully.\n",
      "         Current function value: 0.268184\n",
      "         Iterations 8\n"
     ]
    }
   ],
   "metadata": {}
  },
  {
   "cell_type": "code",
   "execution_count": 200,
   "source": [],
   "outputs": [
    {
     "output_type": "execute_result",
     "data": {
      "text/plain": [
       "method"
      ]
     },
     "metadata": {},
     "execution_count": 200
    }
   ],
   "metadata": {}
  },
  {
   "cell_type": "code",
   "execution_count": 197,
   "source": [
    "residuals = model.resid_response.values\n",
    "sorted_residuals = np.array(sorted(residuals))"
   ],
   "outputs": [],
   "metadata": {}
  },
  {
   "cell_type": "code",
   "execution_count": 198,
   "source": [
    "# sorted_residuals = np.array(sorted(results['true_y'] - results['fitted_y'])) \n",
    "sample_size = len(sorted_residuals)\n",
    "probabilities = np.array([1.0, *np.arange(start=5, stop=96, step=1), 99.0]) / 100\n",
    "observed_quantiles = np.quantile(sorted_residuals, probabilities)\n",
    "theoretical_quantiles = norm.ppf(probabilities, loc=10, scale=50)"
   ],
   "outputs": [],
   "metadata": {}
  },
  {
   "cell_type": "code",
   "execution_count": 199,
   "source": [
    "px.scatter(\n",
    "    x=observed_quantiles,\n",
    "    y=theoretical_quantiles,\n",
    "    title='qq-plot (Standard Normal)')"
   ],
   "outputs": [
    {
     "output_type": "display_data",
     "data": {
      "application/vnd.plotly.v1+json": {
       "config": {
        "plotlyServerURL": "https://plot.ly"
       },
       "data": [
        {
         "hovertemplate": "x=%{x}<br>y=%{y}<extra></extra>",
         "legendgroup": "",
         "marker": {
          "color": "#636efa",
          "symbol": "circle"
         },
         "mode": "markers",
         "name": "",
         "orientation": "v",
         "showlegend": false,
         "type": "scatter",
         "x": [
          -0.7659018215786212,
          -0.4978038147374907,
          -0.494646009330583,
          -0.48323130921803065,
          -0.43466058293007703,
          -0.3860898566421235,
          -0.3311927303109241,
          -0.27566296397540024,
          -0.23018111307753983,
          -0.19044092814405833,
          -0.15710642471694294,
          -0.13498186392596784,
          -0.11441921129949237,
          -0.10947564031801381,
          -0.10453206933653528,
          -0.09072072311532223,
          -0.0749387601741681,
          -0.06464052617164069,
          -0.05891206628463547,
          -0.05354854003201255,
          -0.04915817013774252,
          -0.044767800243472454,
          -0.04293434653270424,
          -0.04110089282193603,
          -0.038978512522464245,
          -0.03674778475222862,
          -0.029811108277703925,
          -0.017227293358032265,
          -0.006918863272670991,
          -0.006849664941706184,
          -0.0067804666107413765,
          -0.006480284688216775,
          -0.00615700440653619,
          -0.00600104579259889,
          -0.005940699560229181,
          -0.005875594861068567,
          -0.0058021628450238664,
          -0.005727207041162616,
          -0.005637013359135841,
          -0.0055468196771090664,
          -0.00548518544764858,
          -0.005429897763202824,
          -0.00529080399621468,
          -0.005081871827107884,
          -0.004859656033628671,
          -0.004602017241823017,
          -0.004344378450017363,
          -0.004203149730161324,
          -0.004061921010305285,
          -0.003919247842710775,
          -0.003776033007214338,
          -0.0033805226198737564,
          -0.002682257570320215,
          -0.002094597033712063,
          -0.002004656805358175,
          -0.0019147165770042878,
          -0.0018992550718225588,
          -0.0018912414389580462,
          -0.0016181774519512763,
          -0.0011936561197203632,
          0.0021906324833824878,
          0.01075451381051124,
          0.018924244392278227,
          0.023152467520427794,
          0.027380690648577392,
          0.028714078590872716,
          0.02940416982520044,
          0.03266031965992876,
          0.03805485166165762,
          0.04377954755395432,
          0.05038468048776552,
          0.05698981342157661,
          0.06360853216160944,
          0.0702272509016424,
          0.07774165641151792,
          0.08559194446008456,
          0.09579156300815966,
          0.108810378155645,
          0.12009550901248767,
          0.12357906056143822,
          0.12706261211038883,
          0.13482160730003517,
          0.1430081468537511,
          0.1588644365436746,
          0.17910344059714495,
          0.20619648182753314,
          0.24528408811752603,
          0.2893059977688382,
          0.3826709410333451,
          0.4760358842978505,
          0.501508885951008,
          0.5118947894683106,
          0.8052387392715294
         ],
         "xaxis": "x",
         "y": [
          -106.31739370204204,
          -72.24268134757364,
          -67.73867972984267,
          -63.78955140895853,
          -60.25357801548165,
          -57.03775168451082,
          -54.07757827723002,
          -51.32640600183049,
          -48.74933960330452,
          -46.31955645194003,
          -44.01596704074779,
          -41.82166947468949,
          -39.722894160487655,
          -37.70826265730971,
          -35.7682543921407,
          -33.89481475256144,
          -32.08106167864571,
          -30.321062350912015,
          -28.609660709434237,
          -26.942342459260686,
          -25.31512814200437,
          -23.724487509804085,
          -22.167270269645847,
          -20.640649550831363,
          -19.14207536356081,
          -17.669235977783647,
          -16.220025635402045,
          -14.792517367372664,
          -13.384939955725411,
          -11.99565828366169,
          -10.623156472070235,
          -9.266023320378387,
          -7.922939662559688,
          -6.592667321840832,
          -5.274039404969869,
          -3.965951722372708,
          -2.667355156789986,
          -1.3772488320574734,
          -0.09467395709254411,
          1.181291760956933,
          2.451539225161137,
          3.716932657246299,
          4.978313974426513,
          6.236506895008505,
          7.492320826763317,
          8.746554587064447,
          10,
          11.253445412935553,
          12.507679173236683,
          13.763493104991495,
          15.021686025573494,
          16.283067342753707,
          17.54846077483887,
          18.818708239043062,
          20.09467395709254,
          21.377248832057468,
          22.667355156789988,
          23.965951722372708,
          25.27403940496987,
          26.592667321840832,
          27.92293966255969,
          29.266023320378387,
          30.62315647207025,
          31.995658283661694,
          33.38493995572542,
          34.79251736737266,
          36.22002563540204,
          37.669235977783636,
          39.14207536356081,
          40.64064955083136,
          42.16727026964585,
          43.724487509804085,
          45.31512814200437,
          46.942342459260686,
          48.60966070943424,
          50.321062350912015,
          52.08106167864572,
          53.894814752561444,
          55.76825439214069,
          57.70826265730971,
          59.722894160487655,
          61.82166947468949,
          64.0159670407478,
          66.31955645194003,
          68.74933960330452,
          71.32640600183052,
          74.07757827723002,
          77.03775168451082,
          80.25357801548165,
          83.78955140895856,
          87.73867972984267,
          92.24268134757361,
          126.31739370204204
         ],
         "yaxis": "y"
        }
       ],
       "layout": {
        "legend": {
         "tracegroupgap": 0
        },
        "template": {
         "data": {
          "bar": [
           {
            "error_x": {
             "color": "#2a3f5f"
            },
            "error_y": {
             "color": "#2a3f5f"
            },
            "marker": {
             "line": {
              "color": "#E5ECF6",
              "width": 0.5
             },
             "pattern": {
              "fillmode": "overlay",
              "size": 10,
              "solidity": 0.2
             }
            },
            "type": "bar"
           }
          ],
          "barpolar": [
           {
            "marker": {
             "line": {
              "color": "#E5ECF6",
              "width": 0.5
             },
             "pattern": {
              "fillmode": "overlay",
              "size": 10,
              "solidity": 0.2
             }
            },
            "type": "barpolar"
           }
          ],
          "carpet": [
           {
            "aaxis": {
             "endlinecolor": "#2a3f5f",
             "gridcolor": "white",
             "linecolor": "white",
             "minorgridcolor": "white",
             "startlinecolor": "#2a3f5f"
            },
            "baxis": {
             "endlinecolor": "#2a3f5f",
             "gridcolor": "white",
             "linecolor": "white",
             "minorgridcolor": "white",
             "startlinecolor": "#2a3f5f"
            },
            "type": "carpet"
           }
          ],
          "choropleth": [
           {
            "colorbar": {
             "outlinewidth": 0,
             "ticks": ""
            },
            "type": "choropleth"
           }
          ],
          "contour": [
           {
            "colorbar": {
             "outlinewidth": 0,
             "ticks": ""
            },
            "colorscale": [
             [
              0,
              "#0d0887"
             ],
             [
              0.1111111111111111,
              "#46039f"
             ],
             [
              0.2222222222222222,
              "#7201a8"
             ],
             [
              0.3333333333333333,
              "#9c179e"
             ],
             [
              0.4444444444444444,
              "#bd3786"
             ],
             [
              0.5555555555555556,
              "#d8576b"
             ],
             [
              0.6666666666666666,
              "#ed7953"
             ],
             [
              0.7777777777777778,
              "#fb9f3a"
             ],
             [
              0.8888888888888888,
              "#fdca26"
             ],
             [
              1,
              "#f0f921"
             ]
            ],
            "type": "contour"
           }
          ],
          "contourcarpet": [
           {
            "colorbar": {
             "outlinewidth": 0,
             "ticks": ""
            },
            "type": "contourcarpet"
           }
          ],
          "heatmap": [
           {
            "colorbar": {
             "outlinewidth": 0,
             "ticks": ""
            },
            "colorscale": [
             [
              0,
              "#0d0887"
             ],
             [
              0.1111111111111111,
              "#46039f"
             ],
             [
              0.2222222222222222,
              "#7201a8"
             ],
             [
              0.3333333333333333,
              "#9c179e"
             ],
             [
              0.4444444444444444,
              "#bd3786"
             ],
             [
              0.5555555555555556,
              "#d8576b"
             ],
             [
              0.6666666666666666,
              "#ed7953"
             ],
             [
              0.7777777777777778,
              "#fb9f3a"
             ],
             [
              0.8888888888888888,
              "#fdca26"
             ],
             [
              1,
              "#f0f921"
             ]
            ],
            "type": "heatmap"
           }
          ],
          "heatmapgl": [
           {
            "colorbar": {
             "outlinewidth": 0,
             "ticks": ""
            },
            "colorscale": [
             [
              0,
              "#0d0887"
             ],
             [
              0.1111111111111111,
              "#46039f"
             ],
             [
              0.2222222222222222,
              "#7201a8"
             ],
             [
              0.3333333333333333,
              "#9c179e"
             ],
             [
              0.4444444444444444,
              "#bd3786"
             ],
             [
              0.5555555555555556,
              "#d8576b"
             ],
             [
              0.6666666666666666,
              "#ed7953"
             ],
             [
              0.7777777777777778,
              "#fb9f3a"
             ],
             [
              0.8888888888888888,
              "#fdca26"
             ],
             [
              1,
              "#f0f921"
             ]
            ],
            "type": "heatmapgl"
           }
          ],
          "histogram": [
           {
            "marker": {
             "pattern": {
              "fillmode": "overlay",
              "size": 10,
              "solidity": 0.2
             }
            },
            "type": "histogram"
           }
          ],
          "histogram2d": [
           {
            "colorbar": {
             "outlinewidth": 0,
             "ticks": ""
            },
            "colorscale": [
             [
              0,
              "#0d0887"
             ],
             [
              0.1111111111111111,
              "#46039f"
             ],
             [
              0.2222222222222222,
              "#7201a8"
             ],
             [
              0.3333333333333333,
              "#9c179e"
             ],
             [
              0.4444444444444444,
              "#bd3786"
             ],
             [
              0.5555555555555556,
              "#d8576b"
             ],
             [
              0.6666666666666666,
              "#ed7953"
             ],
             [
              0.7777777777777778,
              "#fb9f3a"
             ],
             [
              0.8888888888888888,
              "#fdca26"
             ],
             [
              1,
              "#f0f921"
             ]
            ],
            "type": "histogram2d"
           }
          ],
          "histogram2dcontour": [
           {
            "colorbar": {
             "outlinewidth": 0,
             "ticks": ""
            },
            "colorscale": [
             [
              0,
              "#0d0887"
             ],
             [
              0.1111111111111111,
              "#46039f"
             ],
             [
              0.2222222222222222,
              "#7201a8"
             ],
             [
              0.3333333333333333,
              "#9c179e"
             ],
             [
              0.4444444444444444,
              "#bd3786"
             ],
             [
              0.5555555555555556,
              "#d8576b"
             ],
             [
              0.6666666666666666,
              "#ed7953"
             ],
             [
              0.7777777777777778,
              "#fb9f3a"
             ],
             [
              0.8888888888888888,
              "#fdca26"
             ],
             [
              1,
              "#f0f921"
             ]
            ],
            "type": "histogram2dcontour"
           }
          ],
          "mesh3d": [
           {
            "colorbar": {
             "outlinewidth": 0,
             "ticks": ""
            },
            "type": "mesh3d"
           }
          ],
          "parcoords": [
           {
            "line": {
             "colorbar": {
              "outlinewidth": 0,
              "ticks": ""
             }
            },
            "type": "parcoords"
           }
          ],
          "pie": [
           {
            "automargin": true,
            "type": "pie"
           }
          ],
          "scatter": [
           {
            "marker": {
             "colorbar": {
              "outlinewidth": 0,
              "ticks": ""
             }
            },
            "type": "scatter"
           }
          ],
          "scatter3d": [
           {
            "line": {
             "colorbar": {
              "outlinewidth": 0,
              "ticks": ""
             }
            },
            "marker": {
             "colorbar": {
              "outlinewidth": 0,
              "ticks": ""
             }
            },
            "type": "scatter3d"
           }
          ],
          "scattercarpet": [
           {
            "marker": {
             "colorbar": {
              "outlinewidth": 0,
              "ticks": ""
             }
            },
            "type": "scattercarpet"
           }
          ],
          "scattergeo": [
           {
            "marker": {
             "colorbar": {
              "outlinewidth": 0,
              "ticks": ""
             }
            },
            "type": "scattergeo"
           }
          ],
          "scattergl": [
           {
            "marker": {
             "colorbar": {
              "outlinewidth": 0,
              "ticks": ""
             }
            },
            "type": "scattergl"
           }
          ],
          "scattermapbox": [
           {
            "marker": {
             "colorbar": {
              "outlinewidth": 0,
              "ticks": ""
             }
            },
            "type": "scattermapbox"
           }
          ],
          "scatterpolar": [
           {
            "marker": {
             "colorbar": {
              "outlinewidth": 0,
              "ticks": ""
             }
            },
            "type": "scatterpolar"
           }
          ],
          "scatterpolargl": [
           {
            "marker": {
             "colorbar": {
              "outlinewidth": 0,
              "ticks": ""
             }
            },
            "type": "scatterpolargl"
           }
          ],
          "scatterternary": [
           {
            "marker": {
             "colorbar": {
              "outlinewidth": 0,
              "ticks": ""
             }
            },
            "type": "scatterternary"
           }
          ],
          "surface": [
           {
            "colorbar": {
             "outlinewidth": 0,
             "ticks": ""
            },
            "colorscale": [
             [
              0,
              "#0d0887"
             ],
             [
              0.1111111111111111,
              "#46039f"
             ],
             [
              0.2222222222222222,
              "#7201a8"
             ],
             [
              0.3333333333333333,
              "#9c179e"
             ],
             [
              0.4444444444444444,
              "#bd3786"
             ],
             [
              0.5555555555555556,
              "#d8576b"
             ],
             [
              0.6666666666666666,
              "#ed7953"
             ],
             [
              0.7777777777777778,
              "#fb9f3a"
             ],
             [
              0.8888888888888888,
              "#fdca26"
             ],
             [
              1,
              "#f0f921"
             ]
            ],
            "type": "surface"
           }
          ],
          "table": [
           {
            "cells": {
             "fill": {
              "color": "#EBF0F8"
             },
             "line": {
              "color": "white"
             }
            },
            "header": {
             "fill": {
              "color": "#C8D4E3"
             },
             "line": {
              "color": "white"
             }
            },
            "type": "table"
           }
          ]
         },
         "layout": {
          "annotationdefaults": {
           "arrowcolor": "#2a3f5f",
           "arrowhead": 0,
           "arrowwidth": 1
          },
          "autotypenumbers": "strict",
          "coloraxis": {
           "colorbar": {
            "outlinewidth": 0,
            "ticks": ""
           }
          },
          "colorscale": {
           "diverging": [
            [
             0,
             "#8e0152"
            ],
            [
             0.1,
             "#c51b7d"
            ],
            [
             0.2,
             "#de77ae"
            ],
            [
             0.3,
             "#f1b6da"
            ],
            [
             0.4,
             "#fde0ef"
            ],
            [
             0.5,
             "#f7f7f7"
            ],
            [
             0.6,
             "#e6f5d0"
            ],
            [
             0.7,
             "#b8e186"
            ],
            [
             0.8,
             "#7fbc41"
            ],
            [
             0.9,
             "#4d9221"
            ],
            [
             1,
             "#276419"
            ]
           ],
           "sequential": [
            [
             0,
             "#0d0887"
            ],
            [
             0.1111111111111111,
             "#46039f"
            ],
            [
             0.2222222222222222,
             "#7201a8"
            ],
            [
             0.3333333333333333,
             "#9c179e"
            ],
            [
             0.4444444444444444,
             "#bd3786"
            ],
            [
             0.5555555555555556,
             "#d8576b"
            ],
            [
             0.6666666666666666,
             "#ed7953"
            ],
            [
             0.7777777777777778,
             "#fb9f3a"
            ],
            [
             0.8888888888888888,
             "#fdca26"
            ],
            [
             1,
             "#f0f921"
            ]
           ],
           "sequentialminus": [
            [
             0,
             "#0d0887"
            ],
            [
             0.1111111111111111,
             "#46039f"
            ],
            [
             0.2222222222222222,
             "#7201a8"
            ],
            [
             0.3333333333333333,
             "#9c179e"
            ],
            [
             0.4444444444444444,
             "#bd3786"
            ],
            [
             0.5555555555555556,
             "#d8576b"
            ],
            [
             0.6666666666666666,
             "#ed7953"
            ],
            [
             0.7777777777777778,
             "#fb9f3a"
            ],
            [
             0.8888888888888888,
             "#fdca26"
            ],
            [
             1,
             "#f0f921"
            ]
           ]
          },
          "colorway": [
           "#636efa",
           "#EF553B",
           "#00cc96",
           "#ab63fa",
           "#FFA15A",
           "#19d3f3",
           "#FF6692",
           "#B6E880",
           "#FF97FF",
           "#FECB52"
          ],
          "font": {
           "color": "#2a3f5f"
          },
          "geo": {
           "bgcolor": "white",
           "lakecolor": "white",
           "landcolor": "#E5ECF6",
           "showlakes": true,
           "showland": true,
           "subunitcolor": "white"
          },
          "hoverlabel": {
           "align": "left"
          },
          "hovermode": "closest",
          "mapbox": {
           "style": "light"
          },
          "paper_bgcolor": "white",
          "plot_bgcolor": "#E5ECF6",
          "polar": {
           "angularaxis": {
            "gridcolor": "white",
            "linecolor": "white",
            "ticks": ""
           },
           "bgcolor": "#E5ECF6",
           "radialaxis": {
            "gridcolor": "white",
            "linecolor": "white",
            "ticks": ""
           }
          },
          "scene": {
           "xaxis": {
            "backgroundcolor": "#E5ECF6",
            "gridcolor": "white",
            "gridwidth": 2,
            "linecolor": "white",
            "showbackground": true,
            "ticks": "",
            "zerolinecolor": "white"
           },
           "yaxis": {
            "backgroundcolor": "#E5ECF6",
            "gridcolor": "white",
            "gridwidth": 2,
            "linecolor": "white",
            "showbackground": true,
            "ticks": "",
            "zerolinecolor": "white"
           },
           "zaxis": {
            "backgroundcolor": "#E5ECF6",
            "gridcolor": "white",
            "gridwidth": 2,
            "linecolor": "white",
            "showbackground": true,
            "ticks": "",
            "zerolinecolor": "white"
           }
          },
          "shapedefaults": {
           "line": {
            "color": "#2a3f5f"
           }
          },
          "ternary": {
           "aaxis": {
            "gridcolor": "white",
            "linecolor": "white",
            "ticks": ""
           },
           "baxis": {
            "gridcolor": "white",
            "linecolor": "white",
            "ticks": ""
           },
           "bgcolor": "#E5ECF6",
           "caxis": {
            "gridcolor": "white",
            "linecolor": "white",
            "ticks": ""
           }
          },
          "title": {
           "x": 0.05
          },
          "xaxis": {
           "automargin": true,
           "gridcolor": "white",
           "linecolor": "white",
           "ticks": "",
           "title": {
            "standoff": 15
           },
           "zerolinecolor": "white",
           "zerolinewidth": 2
          },
          "yaxis": {
           "automargin": true,
           "gridcolor": "white",
           "linecolor": "white",
           "ticks": "",
           "title": {
            "standoff": 15
           },
           "zerolinecolor": "white",
           "zerolinewidth": 2
          }
         }
        },
        "title": {
         "text": "qq-plot (Standard Normal)"
        },
        "xaxis": {
         "anchor": "y",
         "domain": [
          0,
          1
         ],
         "title": {
          "text": "x"
         }
        },
        "yaxis": {
         "anchor": "x",
         "domain": [
          0,
          1
         ],
         "title": {
          "text": "y"
         }
        }
       }
      }
     },
     "metadata": {}
    }
   ],
   "metadata": {}
  },
  {
   "cell_type": "code",
   "execution_count": null,
   "source": [],
   "outputs": [],
   "metadata": {}
  }
 ],
 "metadata": {
  "orig_nbformat": 4,
  "language_info": {
   "name": "python",
   "version": "3.8.5",
   "mimetype": "text/x-python",
   "codemirror_mode": {
    "name": "ipython",
    "version": 3
   },
   "pygments_lexer": "ipython3",
   "nbconvert_exporter": "python",
   "file_extension": ".py"
  },
  "kernelspec": {
   "name": "python3",
   "display_name": "Python 3.8.5 64-bit ('base': conda)"
  },
  "interpreter": {
   "hash": "76de0a2b6c505bd6a9c9d4f53b70b9a13b0af8c720f41e790965f52dc0a92e6b"
  }
 },
 "nbformat": 4,
 "nbformat_minor": 2
}