{
 "cells": [
  {
   "cell_type": "code",
   "execution_count": 24,
   "source": [
    "import sys\n",
    "\n",
    "if '..' not in sys.path:\n",
    "    sys.path.insert(0, '..')\n",
    "\n",
    "import glm\n",
    "import plotter\n",
    "import plotly.express as px\n",
    "from pandas import DataFrame\n",
    "from numpy import ndarray\n",
    "import pandas as pd\n",
    "import numpy as np\n",
    "from plotly.graph_objects import Figure as PlotlyFigure\n",
    "import statsmodels.api as sm\n",
    "from scipy.stats import norm\n",
    "# from statsmodels.discrete.discrete_model import Logit as LogisticRegressor\n",
    "from statsmodels.formula.api import logit as LogisticRegressor\n",
    "from statsmodels.discrete.discrete_model import Logit\n",
    "from sklearn.linear_model import LogisticRegression\n",
    "from patsy import dmatrix, dmatrices"
   ],
   "outputs": [],
   "metadata": {}
  },
  {
   "cell_type": "code",
   "execution_count": 2,
   "source": [
    "data = sm.datasets.get_rdataset(\"Duncan\", \"carData\").data\n",
    "data['prestige_ge_60'] = np.where(data['prestige'] >= 60, 1, 0)\n",
    "data.head()"
   ],
   "outputs": [
    {
     "output_type": "execute_result",
     "data": {
      "text/html": [
       "<div>\n",
       "<style scoped>\n",
       "    .dataframe tbody tr th:only-of-type {\n",
       "        vertical-align: middle;\n",
       "    }\n",
       "\n",
       "    .dataframe tbody tr th {\n",
       "        vertical-align: top;\n",
       "    }\n",
       "\n",
       "    .dataframe thead th {\n",
       "        text-align: right;\n",
       "    }\n",
       "</style>\n",
       "<table border=\"1\" class=\"dataframe\">\n",
       "  <thead>\n",
       "    <tr style=\"text-align: right;\">\n",
       "      <th></th>\n",
       "      <th>type</th>\n",
       "      <th>income</th>\n",
       "      <th>education</th>\n",
       "      <th>prestige</th>\n",
       "      <th>prestige_ge_60</th>\n",
       "    </tr>\n",
       "  </thead>\n",
       "  <tbody>\n",
       "    <tr>\n",
       "      <th>accountant</th>\n",
       "      <td>prof</td>\n",
       "      <td>62</td>\n",
       "      <td>86</td>\n",
       "      <td>82</td>\n",
       "      <td>1</td>\n",
       "    </tr>\n",
       "    <tr>\n",
       "      <th>pilot</th>\n",
       "      <td>prof</td>\n",
       "      <td>72</td>\n",
       "      <td>76</td>\n",
       "      <td>83</td>\n",
       "      <td>1</td>\n",
       "    </tr>\n",
       "    <tr>\n",
       "      <th>architect</th>\n",
       "      <td>prof</td>\n",
       "      <td>75</td>\n",
       "      <td>92</td>\n",
       "      <td>90</td>\n",
       "      <td>1</td>\n",
       "    </tr>\n",
       "    <tr>\n",
       "      <th>author</th>\n",
       "      <td>prof</td>\n",
       "      <td>55</td>\n",
       "      <td>90</td>\n",
       "      <td>76</td>\n",
       "      <td>1</td>\n",
       "    </tr>\n",
       "    <tr>\n",
       "      <th>chemist</th>\n",
       "      <td>prof</td>\n",
       "      <td>64</td>\n",
       "      <td>86</td>\n",
       "      <td>90</td>\n",
       "      <td>1</td>\n",
       "    </tr>\n",
       "  </tbody>\n",
       "</table>\n",
       "</div>"
      ],
      "text/plain": [
       "            type  income  education  prestige  prestige_ge_60\n",
       "accountant  prof      62         86        82               1\n",
       "pilot       prof      72         76        83               1\n",
       "architect   prof      75         92        90               1\n",
       "author      prof      55         90        76               1\n",
       "chemist     prof      64         86        90               1"
      ]
     },
     "metadata": {},
     "execution_count": 2
    }
   ],
   "metadata": {}
  },
  {
   "cell_type": "code",
   "execution_count": 50,
   "source": [
    "#construct design matrices according to formula\n",
    "predictors = [\"income\", \"education\"]\n",
    "target = \"prestige_ge_60\"\n",
    "formula = f\"{target} ~ 1 + {'+'.join(predictors)}\"\n",
    "y, X = dmatrices(formula, data=data)\n",
    "\n",
    "#fit model\n",
    "sklearn_model = LogisticRegression(penalty=\"none\").fit(\n",
    "    X=X,\n",
    "    y=y.ravel(),\n",
    ")\n"
   ],
   "outputs": [],
   "metadata": {}
  },
  {
   "cell_type": "code",
   "execution_count": 56,
   "source": [
    "sklearn_model.predict_proba(X)"
   ],
   "outputs": [
    {
     "output_type": "execute_result",
     "data": {
      "text/plain": [
       "array([[1.45985267e-01, 8.54014733e-01],\n",
       "       [1.19462378e-01, 8.80537622e-01],\n",
       "       [4.19781967e-02, 9.58021803e-01],\n",
       "       [1.91983006e-01, 8.08016994e-01],\n",
       "       [1.27379475e-01, 8.72620525e-01],\n",
       "       [8.29476141e-01, 1.70523859e-01],\n",
       "       [8.98740106e-02, 9.10125989e-01],\n",
       "       [1.85398731e-02, 9.81460127e-01],\n",
       "       [9.82345773e-02, 9.01765423e-01],\n",
       "       [7.20324641e-02, 9.27967536e-01],\n",
       "       [6.18326211e-01, 3.81673789e-01],\n",
       "       [2.81494808e-02, 9.71850519e-01],\n",
       "       [2.97178732e-02, 9.70282127e-01],\n",
       "       [5.00761228e-01, 4.99238772e-01],\n",
       "       [2.80818515e-01, 7.19181485e-01],\n",
       "       [5.07938940e-01, 4.92061060e-01],\n",
       "       [7.74392175e-01, 2.25607825e-01],\n",
       "       [5.16616556e-01, 4.83383444e-01],\n",
       "       [8.96367167e-01, 1.03632833e-01],\n",
       "       [5.69899161e-02, 9.43010084e-01],\n",
       "       [8.34848612e-01, 1.65151388e-01],\n",
       "       [7.44530369e-01, 2.55469631e-01],\n",
       "       [4.07016282e-01, 5.92983718e-01],\n",
       "       [9.45254288e-01, 5.47457117e-02],\n",
       "       [9.93225863e-01, 6.77413746e-03],\n",
       "       [8.85131853e-01, 1.14868147e-01],\n",
       "       [4.93012726e-01, 5.06987274e-01],\n",
       "       [9.64469152e-01, 3.55308477e-02],\n",
       "       [9.93068595e-01, 6.93140502e-03],\n",
       "       [9.55232442e-01, 4.47675584e-02],\n",
       "       [9.94097734e-01, 5.90226646e-03],\n",
       "       [9.99076500e-01, 9.23499962e-04],\n",
       "       [9.59399357e-01, 4.06006426e-02],\n",
       "       [9.97889063e-01, 2.11093731e-03],\n",
       "       [9.95655649e-01, 4.34435142e-03],\n",
       "       [9.94264627e-01, 5.73537277e-03],\n",
       "       [9.94595262e-01, 5.40473752e-03],\n",
       "       [9.93960584e-01, 6.03941584e-03],\n",
       "       [9.98111684e-01, 1.88831595e-03],\n",
       "       [9.96302105e-01, 3.69789465e-03],\n",
       "       [9.95070104e-01, 4.92989567e-03],\n",
       "       [9.94469610e-01, 5.53039027e-03],\n",
       "       [9.98093471e-01, 1.90652905e-03],\n",
       "       [9.32235120e-01, 6.77648801e-02],\n",
       "       [9.95976616e-01, 4.02338387e-03]])"
      ]
     },
     "metadata": {},
     "execution_count": 56
    }
   ],
   "metadata": {}
  },
  {
   "cell_type": "code",
   "execution_count": null,
   "source": [
    "residuals = model.resid_response.values\n",
    "sorted_residuals = np.array(sorted(residuals))"
   ],
   "outputs": [],
   "metadata": {}
  }
 ],
 "metadata": {
  "orig_nbformat": 4,
  "language_info": {
   "name": "python",
   "version": "3.8.10",
   "mimetype": "text/x-python",
   "codemirror_mode": {
    "name": "ipython",
    "version": 3
   },
   "pygments_lexer": "ipython3",
   "nbconvert_exporter": "python",
   "file_extension": ".py"
  },
  "kernelspec": {
   "name": "python3",
   "display_name": "Python 3.8.10 64-bit ('r_and_python': conda)"
  },
  "interpreter": {
   "hash": "30d47c092dded7b0880b3cec71a348d8f5a52b285f2412ee900705bf9859bfaf"
  }
 },
 "nbformat": 4,
 "nbformat_minor": 2
}