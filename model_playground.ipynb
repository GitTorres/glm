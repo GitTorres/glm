{
 "cells": [
  {
   "cell_type": "code",
   "execution_count": 1,
   "source": [
    "import sys\n",
    "\n",
    "if '..' not in sys.path:\n",
    "    sys.path.insert(0, '..')\n",
    "\n",
    "import glm\n",
    "import plotter\n",
    "import plotly.express as px\n",
    "from pandas import DataFrame\n",
    "from numpy import ndarray\n",
    "import pandas as pd\n",
    "import numpy as np\n",
    "from plotly.graph_objects import Figure as PlotlyFigure\n",
    "import statsmodels.api as sm\n",
    "from scipy.stats import norm\n",
    "# from statsmodels.discrete.discrete_model import Logit as LogisticRegressor\n",
    "from statsmodels.formula.api import logit as LogisticRegressor\n",
    "from statsmodels.discrete.discrete_model import Logit\n",
    "from sklearn.linear_model import LogisticRegression\n",
    "from sklearn.metrics import accuracy_score, precision_score, recall_score, f1_score, confusion_matrix\n",
    "from patsy import dmatrix, dmatrices\n",
    "from collections import MutableMapping"
   ],
   "outputs": [
    {
     "output_type": "stream",
     "name": "stderr",
     "text": [
      "/var/folders/s2/s80pr6vx43n4pkf0gbvg9zlh0000gn/T/ipykernel_20069/2029328539.py:22: DeprecationWarning: Using or importing the ABCs from 'collections' instead of from 'collections.abc' is deprecated since Python 3.3, and in 3.10 it will stop working\n",
      "  from collections import MutableMapping\n"
     ]
    }
   ],
   "metadata": {}
  },
  {
   "cell_type": "code",
   "execution_count": 2,
   "source": [
    "data = sm.datasets.get_rdataset(\"Duncan\", \"carData\").data\n",
    "data['prestige_ge_60'] = np.where(data['prestige'] >= 60, 1, 0)\n",
    "data.head()"
   ],
   "outputs": [
    {
     "output_type": "execute_result",
     "data": {
      "text/html": [
       "<div>\n",
       "<style scoped>\n",
       "    .dataframe tbody tr th:only-of-type {\n",
       "        vertical-align: middle;\n",
       "    }\n",
       "\n",
       "    .dataframe tbody tr th {\n",
       "        vertical-align: top;\n",
       "    }\n",
       "\n",
       "    .dataframe thead th {\n",
       "        text-align: right;\n",
       "    }\n",
       "</style>\n",
       "<table border=\"1\" class=\"dataframe\">\n",
       "  <thead>\n",
       "    <tr style=\"text-align: right;\">\n",
       "      <th></th>\n",
       "      <th>type</th>\n",
       "      <th>income</th>\n",
       "      <th>education</th>\n",
       "      <th>prestige</th>\n",
       "      <th>prestige_ge_60</th>\n",
       "    </tr>\n",
       "  </thead>\n",
       "  <tbody>\n",
       "    <tr>\n",
       "      <th>accountant</th>\n",
       "      <td>prof</td>\n",
       "      <td>62</td>\n",
       "      <td>86</td>\n",
       "      <td>82</td>\n",
       "      <td>1</td>\n",
       "    </tr>\n",
       "    <tr>\n",
       "      <th>pilot</th>\n",
       "      <td>prof</td>\n",
       "      <td>72</td>\n",
       "      <td>76</td>\n",
       "      <td>83</td>\n",
       "      <td>1</td>\n",
       "    </tr>\n",
       "    <tr>\n",
       "      <th>architect</th>\n",
       "      <td>prof</td>\n",
       "      <td>75</td>\n",
       "      <td>92</td>\n",
       "      <td>90</td>\n",
       "      <td>1</td>\n",
       "    </tr>\n",
       "    <tr>\n",
       "      <th>author</th>\n",
       "      <td>prof</td>\n",
       "      <td>55</td>\n",
       "      <td>90</td>\n",
       "      <td>76</td>\n",
       "      <td>1</td>\n",
       "    </tr>\n",
       "    <tr>\n",
       "      <th>chemist</th>\n",
       "      <td>prof</td>\n",
       "      <td>64</td>\n",
       "      <td>86</td>\n",
       "      <td>90</td>\n",
       "      <td>1</td>\n",
       "    </tr>\n",
       "  </tbody>\n",
       "</table>\n",
       "</div>"
      ],
      "text/plain": [
       "            type  income  education  prestige  prestige_ge_60\n",
       "accountant  prof      62         86        82               1\n",
       "pilot       prof      72         76        83               1\n",
       "architect   prof      75         92        90               1\n",
       "author      prof      55         90        76               1\n",
       "chemist     prof      64         86        90               1"
      ]
     },
     "metadata": {},
     "execution_count": 2
    }
   ],
   "metadata": {}
  },
  {
   "cell_type": "code",
   "execution_count": 9,
   "source": [
    "#construct design matrices according to formula\n",
    "predictors = [\"income\", \"education\"]\n",
    "target = \"prestige_ge_60\"\n",
    "formula = f\"{target} ~ 1 + {'+'.join(predictors)}\"\n",
    "y, X = dmatrices(formula, data=data)\n",
    "\n",
    "#fit model\n",
    "sklearn_model = LogisticRegression().fit(\n",
    "    X=X,\n",
    "    y=y.ravel(),\n",
    ")\n"
   ],
   "outputs": [],
   "metadata": {}
  },
  {
   "cell_type": "code",
   "execution_count": 11,
   "source": [
    "def confusion_matrix_scorer(y, y_pred):\n",
    "    cm = confusion_matrix(y, y_pred)\n",
    "\n",
    "    return {\"tn\": cm[0, 0], \"fp\": cm[0, 1], \"fn\": cm[1, 0], \"tp\": cm[1, 1]}\n",
    "\n",
    "\n",
    "def get_score_results(y, y_pred, metrics):\n",
    "\n",
    "    return {metric: scorer(y, y_pred) for metric, scorer in metrics.items()}\n",
    "\n",
    "\n",
    "def flatten(d, parent_key=\"\", sep=\"_\"):\n",
    "    items = []\n",
    "    for k, v in d.items():\n",
    "        new_key = parent_key + sep + k if parent_key else k\n",
    "        if isinstance(v, MutableMapping):\n",
    "            items.extend(flatten(v, new_key, sep=sep).items())\n",
    "        else:\n",
    "            items.append((new_key, v))\n",
    "\n",
    "    return dict(items)\n",
    "\n",
    "\n",
    "metrics = {\n",
    "    \"accuracy\": accuracy_score,\n",
    "    \"precision\": precision_score,\n",
    "    \"recall\": recall_score,\n",
    "    \"f1\": f1_score,\n",
    "    \"confusion_matrix\": confusion_matrix_scorer,\n",
    "}\n",
    "\n",
    "pd.Series(flatten(get_score_results(y, sklearn_model.predict(X), metrics)))"
   ],
   "outputs": [
    {
     "output_type": "execute_result",
     "data": {
      "text/plain": [
       "accuracy                0.888889\n",
       "precision               0.866667\n",
       "recall                  0.812500\n",
       "f1                      0.838710\n",
       "confusion_matrix_tn    27.000000\n",
       "confusion_matrix_fp     2.000000\n",
       "confusion_matrix_fn     3.000000\n",
       "confusion_matrix_tp    13.000000\n",
       "dtype: float64"
      ]
     },
     "metadata": {},
     "execution_count": 11
    }
   ],
   "metadata": {}
  },
  {
   "cell_type": "code",
   "execution_count": null,
   "source": [],
   "outputs": [],
   "metadata": {}
  }
 ],
 "metadata": {
  "orig_nbformat": 4,
  "language_info": {
   "name": "python",
   "version": "3.8.10",
   "mimetype": "text/x-python",
   "codemirror_mode": {
    "name": "ipython",
    "version": 3
   },
   "pygments_lexer": "ipython3",
   "nbconvert_exporter": "python",
   "file_extension": ".py"
  },
  "kernelspec": {
   "name": "python3",
   "display_name": "Python 3.8.10 64-bit ('r_and_python': conda)"
  },
  "interpreter": {
   "hash": "30d47c092dded7b0880b3cec71a348d8f5a52b285f2412ee900705bf9859bfaf"
  }
 },
 "nbformat": 4,
 "nbformat_minor": 2
}